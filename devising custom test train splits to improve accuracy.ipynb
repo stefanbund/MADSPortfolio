{
 "cells": [
  {
   "cell_type": "code",
   "execution_count": 1,
   "metadata": {
    "deletable": false,
    "editable": false,
    "nbgrader": {
     "cell_type": "code",
     "checksum": "b5c605692171b0ccabc83db418974753",
     "grade": false,
     "grade_id": "cell-c18d184342185ba6",
     "locked": true,
     "schema_version": 3,
     "solution": false
    }
   },
   "outputs": [],
   "source": [
    "version = \"v2.1.5\""
   ]
  },
  {
   "cell_type": "code",
   "execution_count": 2,
   "metadata": {},
   "outputs": [
    {
     "data": {
      "text/html": [
       "<style>.container { width:100% !important; }</style>"
      ],
      "text/plain": [
       "<IPython.core.display.HTML object>"
      ]
     },
     "metadata": {},
     "output_type": "display_data"
    }
   ],
   "source": [
    "from IPython.display import display, HTML\n",
    "display(HTML(\"<style>.container { width:100% !important; }</style>\"))"
   ]
  },
  {
   "cell_type": "code",
   "execution_count": 3,
   "metadata": {},
   "outputs": [],
   "source": [
    "# update this string!\n",
    "student_name = \"STEFAN BUND\""
   ]
  },
  {
   "cell_type": "code",
   "execution_count": 4,
   "metadata": {
    "deletable": false,
    "editable": false,
    "nbgrader": {
     "cell_type": "code",
     "checksum": "d18423b24a348413cf31e77f9fe79e09",
     "grade": true,
     "grade_id": "cell-2b8884119b2899c4",
     "locked": true,
     "points": 0,
     "schema_version": 3,
     "solution": false,
     "task": false
    }
   },
   "outputs": [
    {
     "name": "stdout",
     "output_type": "stream",
     "text": [
      "Notebook version v2.1.5\n",
      "Student name: STEFAN BUND\n"
     ]
    }
   ],
   "source": [
    "# Autograder tests\n",
    "print(f\"Notebook version {version}\")\n",
    "print(f\"Student name: {student_name}\")\n",
    "\n",
    "# Some hidden tests"
   ]
  },
  {
   "cell_type": "markdown",
   "metadata": {},
   "source": [
    "<a id='toc'></a>\n",
    "# Table of Contents\n",
    "- **[Assignment 4 Description](#Topic0)**\n",
    "  - [Task 1 - Import CSV Sensor Data file](#t1)\n",
    "  - [Task 2 - Standard train_test_split](#t2)\n",
    "  - [Task 3 - Build a baseline Tree model](#t3)\n",
    "  - [Task 4 - Baseline Tree model questions](#t4)\n",
    "  - [Task 5a - A custom train_test_split function](#t5a)\n",
    "  - [Task 5b - Run a baseline_model](#t5b)\n",
    "  - [Task 5c - Custom train/test split questions](#t5c)\n",
    "  - [Task 6 - Confusion Matrix](#t6)\n",
    "    - [Visualizing the Confusion Matrix](#vcm)\n",
    "  - [Task 7 - Basic Confusion Matrix Understanding](#t7)\n",
    "  - [Task 8 - Feature Importance, part 1](#t8)\n",
    "  - [Task 9 - Feature Importance, part 2](#t9)  \n",
    "    - [Scores Plot](#scoresplot)\n",
    "  - [Task 10 - Final project](#t10)\n",
    "    - [Task 10 Autograder Scoring](#t10ag)"
   ]
  },
  {
   "cell_type": "code",
   "execution_count": 5,
   "metadata": {},
   "outputs": [],
   "source": []
  },
  {
   "cell_type": "markdown",
   "metadata": {
    "deletable": false,
    "editable": false,
    "nbgrader": {
     "cell_type": "markdown",
     "checksum": "9b55e4f31b159cfea2250da44210155f",
     "grade": false,
     "grade_id": "cell-371f2ff64fb68763",
     "locked": true,
     "schema_version": 3,
     "solution": false
    }
   },
   "source": [
    "<a id='Topic0'></a>\n",
    "# Assignment 4 - Tree-based classification & Synthesis Project\n",
    "\n",
    "### Physiological Sensor Data Analysis (100 points)\n",
    "This synthesis project is based on a dataset of physiological sensor measurements collected from Smartphone based sensors. The original research sought to determine the particular activity of the subject based on the physiological measurements obtained from wearables and a SmartPhone. The physiological measurements were used to depict the test subject in one of four activities as follows:  \n",
    "   - neutral\n",
    "   - emotional\n",
    "   - mental\n",
    "   - physical  \n",
    " \n",
    "Your task will be to produce a model that, based on a limited number of features, returns the best possible estimate of the activity being performed by the test subject. While the original analysis utilized more advanced Machine Learning methods, we will concentrate on the supervised learning methods covered in this course.  \n",
    "\n",
    "The sensor dataset consists of 4480 rows, each with the subject ID, the activity label and 533 measurement features! Each of the 40 test volunteers were subjected to a series of 28 data collection events for each of the four activity types presented above. As you explore this data, you will find that the features are arranged by a particular measurement mode, each consisting of similar statistical values.  \n",
    "Before we get started, it will be necessary to ingest and prepare our data for training and testing purposes.  \n",
    "\n",
    "**Notes**  \n",
    " - Any available random_state or seed values should be initialized with an integer value of 42.\n",
    " - Some standard package imports have been provided below.\n",
    " - Additional import deemed necessary for your analysis can be added in the cell following.  \n",
    " \n",
    " <a href='#toc'>TOC</a>"
   ]
  },
  {
   "cell_type": "code",
   "execution_count": 6,
   "metadata": {},
   "outputs": [],
   "source": [
    "import warnings"
   ]
  },
  {
   "cell_type": "code",
   "execution_count": 7,
   "metadata": {
    "deletable": false,
    "editable": false,
    "nbgrader": {
     "cell_type": "code",
     "checksum": "f00477711cbe8f337a840b07c1c02d1a",
     "grade": false,
     "grade_id": "cell-93298b856670623e",
     "locked": true,
     "schema_version": 3,
     "solution": false
    }
   },
   "outputs": [],
   "source": [
    "# useful python standard libraries\n",
    "import itertools\n",
    "import math\n",
    "import random\n",
    "\n",
    "# import core libraries\n",
    "import numpy as np\n",
    "import pandas as pd\n",
    "import matplotlib.pyplot as plt\n",
    "\n",
    "# helpful SciKit-Learn libraries\n",
    "from sklearn.metrics import classification_report, roc_auc_score\n",
    "from sklearn.metrics import ConfusionMatrixDisplay, confusion_matrix\n",
    "from sklearn.model_selection import GridSearchCV, train_test_split\n",
    "from sklearn.pipeline import Pipeline\n",
    "from sklearn.preprocessing import StandardScaler"
   ]
  },
  {
   "cell_type": "code",
   "execution_count": 8,
   "metadata": {},
   "outputs": [],
   "source": [
    "import numpy as np\n",
    "import math"
   ]
  },
  {
   "cell_type": "code",
   "execution_count": 9,
   "metadata": {
    "deletable": false,
    "editable": false,
    "nbgrader": {
     "cell_type": "code",
     "checksum": "fa0113651e98e11dc3c8253ae67ac057",
     "grade": false,
     "grade_id": "cell-f7bc50deed21528d",
     "locked": true,
     "schema_version": 3,
     "solution": false,
     "task": false
    }
   },
   "outputs": [],
   "source": [
    "# path/filename to dataset\n",
    "sensor_data = \"assets/sensor_data.csv\"\n",
    "\n",
    "# We will use this variable name multiple times\n",
    "base_feature_selector = \"_mad_\""
   ]
  },
  {
   "cell_type": "code",
   "execution_count": 10,
   "metadata": {},
   "outputs": [],
   "source": [
    "np.set_printoptions(precision=4)\n",
    "\n",
    "## Additional imports can be inlcuded here"
   ]
  },
  {
   "cell_type": "markdown",
   "metadata": {
    "deletable": false,
    "editable": false,
    "nbgrader": {
     "cell_type": "markdown",
     "checksum": "8c6270dfce59f6fcb08dec6416cf10c9",
     "grade": false,
     "grade_id": "cell-366227f52585e158",
     "locked": true,
     "schema_version": 3,
     "solution": false,
     "task": false
    }
   },
   "source": [
    "<a id='t1'></a>\n",
    "## Task 1 - Import CSV Sensor Data file (2 points).\n",
    " - The first order of business is to read the data file, '_sensor_data.csv_ ', from the '_assets/_ ' folder.\n",
    " - Your function should accept zero arguments and return a Pandas DataFrame.\n",
    " - Be aware that the raw activity labels are in a form that may or may not work with your chosen model(s). Therefore, reassign the activity labels using the following mapping:  \n",
    "    - **'neutral' == 1**\n",
    "    - **'emotional' == 2**\n",
    "    - **'mental' == 3**\n",
    "    - **'physical' == 4**  \n",
    "    \n",
    "<a href='#toc'>TOC</a>"
   ]
  },
  {
   "cell_type": "code",
   "execution_count": 11,
   "metadata": {
    "deletable": false,
    "editable": false,
    "nbgrader": {
     "cell_type": "code",
     "checksum": "06e9ab7a0c2305465b288755c76090fa",
     "grade": true,
     "grade_id": "cell-df67153258c0d72e",
     "locked": true,
     "points": 0,
     "schema_version": 3,
     "solution": false,
     "task": false
    }
   },
   "outputs": [],
   "source": [
    "# hidden autograder codeblock\n",
    "task_id = \"1\""
   ]
  },
  {
   "cell_type": "code",
   "execution_count": 12,
   "metadata": {
    "deletable": false,
    "nbgrader": {
     "cell_type": "code",
     "checksum": "0af85b93538e1924f3d8358fffc82893",
     "grade": false,
     "grade_id": "cell-323ce9af9affa7e8",
     "locked": false,
     "schema_version": 3,
     "solution": true,
     "task": false
    }
   },
   "outputs": [],
   "source": [
    "def get_sensor_data():\n",
    "    df = pd.read_csv(sensor_data)\n",
    "#     df = pd.read_csv('sensor_data.csv')\n",
    "    df['Activity_Label'] = df['Activity_Label'].map({'neutral': 1, 'emotional': 2, 'mental': 3, \\\n",
    "                                     'physical': 4})\n",
    "    return df"
   ]
  },
  {
   "cell_type": "code",
   "execution_count": 13,
   "metadata": {},
   "outputs": [
    {
     "data": {
      "text/html": [
       "<div>\n",
       "<style scoped>\n",
       "    .dataframe tbody tr th:only-of-type {\n",
       "        vertical-align: middle;\n",
       "    }\n",
       "\n",
       "    .dataframe tbody tr th {\n",
       "        vertical-align: top;\n",
       "    }\n",
       "\n",
       "    .dataframe thead th {\n",
       "        text-align: right;\n",
       "    }\n",
       "</style>\n",
       "<table border=\"1\" class=\"dataframe\">\n",
       "  <thead>\n",
       "    <tr style=\"text-align: right;\">\n",
       "      <th></th>\n",
       "      <th>Subject_ID</th>\n",
       "      <th>Activity_Label</th>\n",
       "      <th>ECG_original_mean_1</th>\n",
       "      <th>ECG_original_std_2</th>\n",
       "      <th>ECG_original_trimmean25_3</th>\n",
       "      <th>ECG_original_median_4</th>\n",
       "      <th>ECG_original_skewness_5</th>\n",
       "      <th>ECG_original_kurtosis_6</th>\n",
       "      <th>ECG_original_max_7</th>\n",
       "      <th>ECG_original_min_8</th>\n",
       "      <th>...</th>\n",
       "      <th>EDA_Functionals_power_Filt2skewness_524</th>\n",
       "      <th>EDA_Functionals_power_Filt2kurtosis_525</th>\n",
       "      <th>EDA_Functionals_power_Filt2max_526</th>\n",
       "      <th>EDA_Functionals_power_Filt2min_527</th>\n",
       "      <th>EDA_Functionals_power_Filt2prctile25_528</th>\n",
       "      <th>EDA_Functionals_power_Filt2prctile75_529</th>\n",
       "      <th>EDA_Functionals_power_Filt2geomean(abs)_530</th>\n",
       "      <th>EDA_Functionals_power_Filt2harmmean_531</th>\n",
       "      <th>EDA_Functionals_power_Filt2mad_532</th>\n",
       "      <th>EDA_Functionals_power_Filt2baseline_533</th>\n",
       "    </tr>\n",
       "  </thead>\n",
       "  <tbody>\n",
       "    <tr>\n",
       "      <th>0</th>\n",
       "      <td>QNNG</td>\n",
       "      <td>1</td>\n",
       "      <td>-0.004125</td>\n",
       "      <td>0.254095</td>\n",
       "      <td>0.001426</td>\n",
       "      <td>-0.010370</td>\n",
       "      <td>-0.538509</td>\n",
       "      <td>5.95534</td>\n",
       "      <td>1.04063</td>\n",
       "      <td>-1.374370</td>\n",
       "      <td>...</td>\n",
       "      <td>31.4249</td>\n",
       "      <td>1015.36</td>\n",
       "      <td>7.170320e+08</td>\n",
       "      <td>0.027384</td>\n",
       "      <td>2.53425</td>\n",
       "      <td>17.3882</td>\n",
       "      <td>8.05589</td>\n",
       "      <td>1.80247</td>\n",
       "      <td>1413310.0</td>\n",
       "      <td>3028080.0</td>\n",
       "    </tr>\n",
       "    <tr>\n",
       "      <th>1</th>\n",
       "      <td>QNNG</td>\n",
       "      <td>1</td>\n",
       "      <td>0.031029</td>\n",
       "      <td>0.193761</td>\n",
       "      <td>0.012918</td>\n",
       "      <td>-0.002370</td>\n",
       "      <td>0.781415</td>\n",
       "      <td>5.18794</td>\n",
       "      <td>0.98963</td>\n",
       "      <td>-0.719370</td>\n",
       "      <td>...</td>\n",
       "      <td>31.4354</td>\n",
       "      <td>1015.78</td>\n",
       "      <td>7.058540e+08</td>\n",
       "      <td>0.016947</td>\n",
       "      <td>2.51513</td>\n",
       "      <td>16.5914</td>\n",
       "      <td>7.81769</td>\n",
       "      <td>1.52349</td>\n",
       "      <td>1390180.0</td>\n",
       "      <td>3016420.0</td>\n",
       "    </tr>\n",
       "    <tr>\n",
       "      <th>2</th>\n",
       "      <td>QNNG</td>\n",
       "      <td>1</td>\n",
       "      <td>0.015678</td>\n",
       "      <td>0.182336</td>\n",
       "      <td>-0.003028</td>\n",
       "      <td>-0.023370</td>\n",
       "      <td>0.881194</td>\n",
       "      <td>5.66530</td>\n",
       "      <td>0.87563</td>\n",
       "      <td>-0.719370</td>\n",
       "      <td>...</td>\n",
       "      <td>31.4480</td>\n",
       "      <td>1016.16</td>\n",
       "      <td>6.270180e+08</td>\n",
       "      <td>0.008129</td>\n",
       "      <td>2.25959</td>\n",
       "      <td>15.2312</td>\n",
       "      <td>7.11684</td>\n",
       "      <td>1.25860</td>\n",
       "      <td>1234110.0</td>\n",
       "      <td>3004430.0</td>\n",
       "    </tr>\n",
       "    <tr>\n",
       "      <th>3</th>\n",
       "      <td>QNNG</td>\n",
       "      <td>1</td>\n",
       "      <td>0.014525</td>\n",
       "      <td>0.176636</td>\n",
       "      <td>-0.006161</td>\n",
       "      <td>-0.027370</td>\n",
       "      <td>1.024900</td>\n",
       "      <td>6.10968</td>\n",
       "      <td>0.91063</td>\n",
       "      <td>-0.719370</td>\n",
       "      <td>...</td>\n",
       "      <td>31.4333</td>\n",
       "      <td>1015.61</td>\n",
       "      <td>5.597480e+08</td>\n",
       "      <td>0.007377</td>\n",
       "      <td>2.13924</td>\n",
       "      <td>14.4663</td>\n",
       "      <td>6.70236</td>\n",
       "      <td>1.26643</td>\n",
       "      <td>1102720.0</td>\n",
       "      <td>2992170.0</td>\n",
       "    </tr>\n",
       "    <tr>\n",
       "      <th>4</th>\n",
       "      <td>QNNG</td>\n",
       "      <td>1</td>\n",
       "      <td>0.010349</td>\n",
       "      <td>0.179248</td>\n",
       "      <td>-0.008526</td>\n",
       "      <td>-0.027370</td>\n",
       "      <td>0.935697</td>\n",
       "      <td>5.83902</td>\n",
       "      <td>0.91063</td>\n",
       "      <td>-0.756370</td>\n",
       "      <td>...</td>\n",
       "      <td>31.4346</td>\n",
       "      <td>1015.67</td>\n",
       "      <td>4.844730e+08</td>\n",
       "      <td>0.011448</td>\n",
       "      <td>1.93595</td>\n",
       "      <td>12.5493</td>\n",
       "      <td>6.08647</td>\n",
       "      <td>1.22387</td>\n",
       "      <td>954322.0</td>\n",
       "      <td>2979610.0</td>\n",
       "    </tr>\n",
       "    <tr>\n",
       "      <th>...</th>\n",
       "      <td>...</td>\n",
       "      <td>...</td>\n",
       "      <td>...</td>\n",
       "      <td>...</td>\n",
       "      <td>...</td>\n",
       "      <td>...</td>\n",
       "      <td>...</td>\n",
       "      <td>...</td>\n",
       "      <td>...</td>\n",
       "      <td>...</td>\n",
       "      <td>...</td>\n",
       "      <td>...</td>\n",
       "      <td>...</td>\n",
       "      <td>...</td>\n",
       "      <td>...</td>\n",
       "      <td>...</td>\n",
       "      <td>...</td>\n",
       "      <td>...</td>\n",
       "      <td>...</td>\n",
       "      <td>...</td>\n",
       "      <td>...</td>\n",
       "    </tr>\n",
       "    <tr>\n",
       "      <th>245</th>\n",
       "      <td>GVJD</td>\n",
       "      <td>1</td>\n",
       "      <td>0.000069</td>\n",
       "      <td>0.187193</td>\n",
       "      <td>-0.043176</td>\n",
       "      <td>-0.073865</td>\n",
       "      <td>2.737650</td>\n",
       "      <td>12.38830</td>\n",
       "      <td>1.09113</td>\n",
       "      <td>-0.181865</td>\n",
       "      <td>...</td>\n",
       "      <td>31.4289</td>\n",
       "      <td>1015.51</td>\n",
       "      <td>1.056460e+10</td>\n",
       "      <td>0.134978</td>\n",
       "      <td>31.58940</td>\n",
       "      <td>234.0960</td>\n",
       "      <td>100.80500</td>\n",
       "      <td>15.45560</td>\n",
       "      <td>20817300.0</td>\n",
       "      <td>38929400.0</td>\n",
       "    </tr>\n",
       "    <tr>\n",
       "      <th>246</th>\n",
       "      <td>GVJD</td>\n",
       "      <td>1</td>\n",
       "      <td>-0.001865</td>\n",
       "      <td>0.186908</td>\n",
       "      <td>-0.046055</td>\n",
       "      <td>-0.077865</td>\n",
       "      <td>2.764910</td>\n",
       "      <td>12.48700</td>\n",
       "      <td>1.09113</td>\n",
       "      <td>-0.181865</td>\n",
       "      <td>...</td>\n",
       "      <td>31.4224</td>\n",
       "      <td>1015.21</td>\n",
       "      <td>9.893930e+09</td>\n",
       "      <td>0.176037</td>\n",
       "      <td>30.33650</td>\n",
       "      <td>227.5120</td>\n",
       "      <td>96.87520</td>\n",
       "      <td>15.63590</td>\n",
       "      <td>19505200.0</td>\n",
       "      <td>38783700.0</td>\n",
       "    </tr>\n",
       "    <tr>\n",
       "      <th>247</th>\n",
       "      <td>GVJD</td>\n",
       "      <td>1</td>\n",
       "      <td>-0.002578</td>\n",
       "      <td>0.193167</td>\n",
       "      <td>-0.043957</td>\n",
       "      <td>-0.075865</td>\n",
       "      <td>2.627850</td>\n",
       "      <td>11.97830</td>\n",
       "      <td>1.24013</td>\n",
       "      <td>-0.321865</td>\n",
       "      <td>...</td>\n",
       "      <td>31.4265</td>\n",
       "      <td>1015.52</td>\n",
       "      <td>9.195170e+09</td>\n",
       "      <td>0.156823</td>\n",
       "      <td>26.61840</td>\n",
       "      <td>205.0150</td>\n",
       "      <td>87.65860</td>\n",
       "      <td>14.06780</td>\n",
       "      <td>18117900.0</td>\n",
       "      <td>38635100.0</td>\n",
       "    </tr>\n",
       "    <tr>\n",
       "      <th>248</th>\n",
       "      <td>GVJD</td>\n",
       "      <td>1</td>\n",
       "      <td>-0.003646</td>\n",
       "      <td>0.193385</td>\n",
       "      <td>-0.045367</td>\n",
       "      <td>-0.080865</td>\n",
       "      <td>2.612990</td>\n",
       "      <td>11.87190</td>\n",
       "      <td>1.24013</td>\n",
       "      <td>-0.321865</td>\n",
       "      <td>...</td>\n",
       "      <td>31.4349</td>\n",
       "      <td>1015.69</td>\n",
       "      <td>8.134550e+09</td>\n",
       "      <td>0.205325</td>\n",
       "      <td>24.85820</td>\n",
       "      <td>185.8150</td>\n",
       "      <td>81.35860</td>\n",
       "      <td>15.13390</td>\n",
       "      <td>16023800.0</td>\n",
       "      <td>38482100.0</td>\n",
       "    </tr>\n",
       "    <tr>\n",
       "      <th>249</th>\n",
       "      <td>GVJD</td>\n",
       "      <td>1</td>\n",
       "      <td>-0.000650</td>\n",
       "      <td>0.195513</td>\n",
       "      <td>-0.042715</td>\n",
       "      <td>-0.077865</td>\n",
       "      <td>2.583450</td>\n",
       "      <td>11.63880</td>\n",
       "      <td>1.24013</td>\n",
       "      <td>-0.321865</td>\n",
       "      <td>...</td>\n",
       "      <td>31.4424</td>\n",
       "      <td>1015.91</td>\n",
       "      <td>8.032940e+09</td>\n",
       "      <td>0.267305</td>\n",
       "      <td>24.56370</td>\n",
       "      <td>188.1320</td>\n",
       "      <td>80.60820</td>\n",
       "      <td>15.75310</td>\n",
       "      <td>15818100.0</td>\n",
       "      <td>38329400.0</td>\n",
       "    </tr>\n",
       "  </tbody>\n",
       "</table>\n",
       "<p>250 rows × 535 columns</p>\n",
       "</div>"
      ],
      "text/plain": [
       "    Subject_ID  Activity_Label  ECG_original_mean_1  ECG_original_std_2  \\\n",
       "0         QNNG               1            -0.004125            0.254095   \n",
       "1         QNNG               1             0.031029            0.193761   \n",
       "2         QNNG               1             0.015678            0.182336   \n",
       "3         QNNG               1             0.014525            0.176636   \n",
       "4         QNNG               1             0.010349            0.179248   \n",
       "..         ...             ...                  ...                 ...   \n",
       "245       GVJD               1             0.000069            0.187193   \n",
       "246       GVJD               1            -0.001865            0.186908   \n",
       "247       GVJD               1            -0.002578            0.193167   \n",
       "248       GVJD               1            -0.003646            0.193385   \n",
       "249       GVJD               1            -0.000650            0.195513   \n",
       "\n",
       "     ECG_original_trimmean25_3  ECG_original_median_4  \\\n",
       "0                     0.001426              -0.010370   \n",
       "1                     0.012918              -0.002370   \n",
       "2                    -0.003028              -0.023370   \n",
       "3                    -0.006161              -0.027370   \n",
       "4                    -0.008526              -0.027370   \n",
       "..                         ...                    ...   \n",
       "245                  -0.043176              -0.073865   \n",
       "246                  -0.046055              -0.077865   \n",
       "247                  -0.043957              -0.075865   \n",
       "248                  -0.045367              -0.080865   \n",
       "249                  -0.042715              -0.077865   \n",
       "\n",
       "     ECG_original_skewness_5  ECG_original_kurtosis_6  ECG_original_max_7  \\\n",
       "0                  -0.538509                  5.95534             1.04063   \n",
       "1                   0.781415                  5.18794             0.98963   \n",
       "2                   0.881194                  5.66530             0.87563   \n",
       "3                   1.024900                  6.10968             0.91063   \n",
       "4                   0.935697                  5.83902             0.91063   \n",
       "..                       ...                      ...                 ...   \n",
       "245                 2.737650                 12.38830             1.09113   \n",
       "246                 2.764910                 12.48700             1.09113   \n",
       "247                 2.627850                 11.97830             1.24013   \n",
       "248                 2.612990                 11.87190             1.24013   \n",
       "249                 2.583450                 11.63880             1.24013   \n",
       "\n",
       "     ECG_original_min_8  ...  EDA_Functionals_power_Filt2skewness_524  \\\n",
       "0             -1.374370  ...                                  31.4249   \n",
       "1             -0.719370  ...                                  31.4354   \n",
       "2             -0.719370  ...                                  31.4480   \n",
       "3             -0.719370  ...                                  31.4333   \n",
       "4             -0.756370  ...                                  31.4346   \n",
       "..                  ...  ...                                      ...   \n",
       "245           -0.181865  ...                                  31.4289   \n",
       "246           -0.181865  ...                                  31.4224   \n",
       "247           -0.321865  ...                                  31.4265   \n",
       "248           -0.321865  ...                                  31.4349   \n",
       "249           -0.321865  ...                                  31.4424   \n",
       "\n",
       "     EDA_Functionals_power_Filt2kurtosis_525  \\\n",
       "0                                    1015.36   \n",
       "1                                    1015.78   \n",
       "2                                    1016.16   \n",
       "3                                    1015.61   \n",
       "4                                    1015.67   \n",
       "..                                       ...   \n",
       "245                                  1015.51   \n",
       "246                                  1015.21   \n",
       "247                                  1015.52   \n",
       "248                                  1015.69   \n",
       "249                                  1015.91   \n",
       "\n",
       "     EDA_Functionals_power_Filt2max_526  EDA_Functionals_power_Filt2min_527  \\\n",
       "0                          7.170320e+08                            0.027384   \n",
       "1                          7.058540e+08                            0.016947   \n",
       "2                          6.270180e+08                            0.008129   \n",
       "3                          5.597480e+08                            0.007377   \n",
       "4                          4.844730e+08                            0.011448   \n",
       "..                                  ...                                 ...   \n",
       "245                        1.056460e+10                            0.134978   \n",
       "246                        9.893930e+09                            0.176037   \n",
       "247                        9.195170e+09                            0.156823   \n",
       "248                        8.134550e+09                            0.205325   \n",
       "249                        8.032940e+09                            0.267305   \n",
       "\n",
       "     EDA_Functionals_power_Filt2prctile25_528  \\\n",
       "0                                     2.53425   \n",
       "1                                     2.51513   \n",
       "2                                     2.25959   \n",
       "3                                     2.13924   \n",
       "4                                     1.93595   \n",
       "..                                        ...   \n",
       "245                                  31.58940   \n",
       "246                                  30.33650   \n",
       "247                                  26.61840   \n",
       "248                                  24.85820   \n",
       "249                                  24.56370   \n",
       "\n",
       "     EDA_Functionals_power_Filt2prctile75_529  \\\n",
       "0                                     17.3882   \n",
       "1                                     16.5914   \n",
       "2                                     15.2312   \n",
       "3                                     14.4663   \n",
       "4                                     12.5493   \n",
       "..                                        ...   \n",
       "245                                  234.0960   \n",
       "246                                  227.5120   \n",
       "247                                  205.0150   \n",
       "248                                  185.8150   \n",
       "249                                  188.1320   \n",
       "\n",
       "     EDA_Functionals_power_Filt2geomean(abs)_530  \\\n",
       "0                                        8.05589   \n",
       "1                                        7.81769   \n",
       "2                                        7.11684   \n",
       "3                                        6.70236   \n",
       "4                                        6.08647   \n",
       "..                                           ...   \n",
       "245                                    100.80500   \n",
       "246                                     96.87520   \n",
       "247                                     87.65860   \n",
       "248                                     81.35860   \n",
       "249                                     80.60820   \n",
       "\n",
       "     EDA_Functionals_power_Filt2harmmean_531  \\\n",
       "0                                    1.80247   \n",
       "1                                    1.52349   \n",
       "2                                    1.25860   \n",
       "3                                    1.26643   \n",
       "4                                    1.22387   \n",
       "..                                       ...   \n",
       "245                                 15.45560   \n",
       "246                                 15.63590   \n",
       "247                                 14.06780   \n",
       "248                                 15.13390   \n",
       "249                                 15.75310   \n",
       "\n",
       "     EDA_Functionals_power_Filt2mad_532  \\\n",
       "0                             1413310.0   \n",
       "1                             1390180.0   \n",
       "2                             1234110.0   \n",
       "3                             1102720.0   \n",
       "4                              954322.0   \n",
       "..                                  ...   \n",
       "245                          20817300.0   \n",
       "246                          19505200.0   \n",
       "247                          18117900.0   \n",
       "248                          16023800.0   \n",
       "249                          15818100.0   \n",
       "\n",
       "     EDA_Functionals_power_Filt2baseline_533  \n",
       "0                                  3028080.0  \n",
       "1                                  3016420.0  \n",
       "2                                  3004430.0  \n",
       "3                                  2992170.0  \n",
       "4                                  2979610.0  \n",
       "..                                       ...  \n",
       "245                               38929400.0  \n",
       "246                               38783700.0  \n",
       "247                               38635100.0  \n",
       "248                               38482100.0  \n",
       "249                               38329400.0  \n",
       "\n",
       "[250 rows x 535 columns]"
      ]
     },
     "execution_count": 13,
     "metadata": {},
     "output_type": "execute_result"
    }
   ],
   "source": [
    "# use this cell to explore your solution\n",
    "# Remember to comment the following function call before submitting the notebook.\n",
    "\n",
    "get_sensor_data().head(250)"
   ]
  },
  {
   "cell_type": "code",
   "execution_count": 14,
   "metadata": {},
   "outputs": [
    {
     "data": {
      "text/plain": [
       "Index(['Subject_ID', 'Activity_Label', 'ECG_original_mean_1',\n",
       "       'ECG_original_std_2', 'ECG_original_trimmean25_3',\n",
       "       'ECG_original_median_4', 'ECG_original_skewness_5',\n",
       "       'ECG_original_kurtosis_6', 'ECG_original_max_7', 'ECG_original_min_8',\n",
       "       ...\n",
       "       'EDA_Functionals_power_Filt2skewness_524',\n",
       "       'EDA_Functionals_power_Filt2kurtosis_525',\n",
       "       'EDA_Functionals_power_Filt2max_526',\n",
       "       'EDA_Functionals_power_Filt2min_527',\n",
       "       'EDA_Functionals_power_Filt2prctile25_528',\n",
       "       'EDA_Functionals_power_Filt2prctile75_529',\n",
       "       'EDA_Functionals_power_Filt2geomean(abs)_530',\n",
       "       'EDA_Functionals_power_Filt2harmmean_531',\n",
       "       'EDA_Functionals_power_Filt2mad_532',\n",
       "       'EDA_Functionals_power_Filt2baseline_533'],\n",
       "      dtype='object', length=535)"
      ]
     },
     "execution_count": 14,
     "metadata": {},
     "output_type": "execute_result"
    }
   ],
   "source": [
    "df = get_sensor_data()\n",
    "l = df.columns\n",
    "l"
   ]
  },
  {
   "cell_type": "code",
   "execution_count": 15,
   "metadata": {
    "deletable": false,
    "editable": false,
    "nbgrader": {
     "cell_type": "code",
     "checksum": "74e55e781ba2de241a0615d1cc381df1",
     "grade": true,
     "grade_id": "cell-d56b92a082173913",
     "locked": true,
     "points": 2,
     "schema_version": 3,
     "solution": false,
     "task": false
    }
   },
   "outputs": [
    {
     "name": "stdout",
     "output_type": "stream",
     "text": [
      "Task 1 - AG tests\n"
     ]
    }
   ],
   "source": [
    "# Autograder tests\n",
    "print(f\"Task {task_id} - AG tests\")\n",
    "\n",
    "stu_ans = get_sensor_data()\n",
    "\n",
    "assert isinstance(\n",
    "    stu_ans, pd.DataFrame\n",
    "), f\"Task {task_id}: Your get_sensor_data function must return a Pandas DataFrame.\"\n",
    "\n",
    "assert isinstance(\n",
    "    stu_ans.iloc[0][2], np.float64\n",
    "), f\"Task {task_id}: The dtype of the first row, third column, is incorrect.\"\n",
    "\n",
    "# Some hidden tests\n",
    "del stu_ans"
   ]
  },
  {
   "cell_type": "markdown",
   "metadata": {
    "deletable": false,
    "editable": false,
    "nbgrader": {
     "cell_type": "markdown",
     "checksum": "2223eb16fdefdea10cb3d441db6951ac",
     "grade": false,
     "grade_id": "cell-e309fa31d13a784b",
     "locked": true,
     "schema_version": 3,
     "solution": false,
     "task": false
    }
   },
   "source": [
    "<a id='t2'></a>\n",
    "## Task 2 - Standard train_test_split (3 points).\n",
    "\n",
    " - Our first exercise will be to produce a SciKit-Learn standard train/test split of a dataframe. In the following cell, complete the function that returns a standard train/test split of the sensor data.\n",
    "   - The function should accept a dataframe as produced by get_sensor_data() and a test_size value which defaults to 0.2.\n",
    "   - The function should incorporate the **stratify** parameter in the [train_test_split](https://scikit-learn.org/1.1/modules/generated/sklearn.model_selection.train_test_split.html#sklearn.model_selection.train_test_split) function.\n",
    "   - The function should return the standard X_train, X_test, y_train, y_test.  \n",
    "\n",
    "<a href='#toc'>TOC</a>"
   ]
  },
  {
   "cell_type": "code",
   "execution_count": 16,
   "metadata": {
    "deletable": false,
    "editable": false,
    "nbgrader": {
     "cell_type": "code",
     "checksum": "50375c3bc581d8a9fbde22a2ec35cf87",
     "grade": true,
     "grade_id": "cell-5f1b791501e086cb",
     "locked": true,
     "points": 0,
     "schema_version": 3,
     "solution": false,
     "task": false
    }
   },
   "outputs": [],
   "source": [
    "# hidden autograder codeblock\n",
    "task_id = \"2\""
   ]
  },
  {
   "cell_type": "code",
   "execution_count": 17,
   "metadata": {
    "deletable": false,
    "nbgrader": {
     "cell_type": "code",
     "checksum": "3ef7526e619806dc995c2b8ad54ff6e0",
     "grade": false,
     "grade_id": "cell-bcd3c8cc8a52f6b7",
     "locked": false,
     "schema_version": 3,
     "solution": true,
     "task": false
    }
   },
   "outputs": [],
   "source": [
    "def std_train_test_split(df, test_size=0.2):\n",
    "    r = list(get_sensor_data().columns)\n",
    "    r.pop(1)\n",
    "#     dependent_columns = r \n",
    "    x = df[r]\n",
    "    y = df['Activity_Label']\n",
    "    X_train, X_test, y_train, y_test = train_test_split(x, y, test_size=test_size, stratify=y,random_state=42)\n",
    "    return X_train, X_test, y_train, y_test"
   ]
  },
  {
   "cell_type": "code",
   "execution_count": 18,
   "metadata": {
    "scrolled": true
   },
   "outputs": [],
   "source": [
    "# use this cell to explore your solution\n",
    "# Remember to comment the following function call before submitting the notebook.\n",
    "\n",
    "X_train, X_test, y_train, y_test = std_train_test_split(get_sensor_data(), test_size=0.2)"
   ]
  },
  {
   "cell_type": "code",
   "execution_count": 19,
   "metadata": {
    "deletable": false,
    "editable": false,
    "nbgrader": {
     "cell_type": "code",
     "checksum": "32f3637cb5b936d434e2aa18e9fed5ba",
     "grade": true,
     "grade_id": "cell-aeeea8534654fbda",
     "locked": true,
     "points": 3,
     "schema_version": 3,
     "solution": false,
     "task": false
    }
   },
   "outputs": [
    {
     "name": "stdout",
     "output_type": "stream",
     "text": [
      "Task 2 - AG tests\n"
     ]
    }
   ],
   "source": [
    "# Autograder tests\n",
    "print(f\"Task {task_id} - AG tests\")\n",
    "df = get_sensor_data()\n",
    "stu_ans = std_train_test_split(df)\n",
    "\n",
    "# print(f\"Task {task_id} - your answer:\\n{stu_ans}\")\n",
    "\n",
    "assert isinstance(\n",
    "    stu_ans[0], pd.DataFrame\n",
    "), f\"Task {task_id}: X_train should be a pd.DataFrame\"\n",
    "\n",
    "assert isinstance(\n",
    "    stu_ans[2], pd.Series\n",
    "), f\"Task {task_id}: y_train should be a pd.Series\"\n",
    "\n",
    "# Some hidden tests\n",
    "del stu_ans\n",
    "del df"
   ]
  },
  {
   "cell_type": "markdown",
   "metadata": {
    "deletable": false,
    "editable": false,
    "nbgrader": {
     "cell_type": "markdown",
     "checksum": "ca6a005b7f8d434597fa35c5c3a17313",
     "grade": false,
     "grade_id": "cell-fca36043345da8b5",
     "locked": true,
     "schema_version": 3,
     "solution": false,
     "task": false
    }
   },
   "source": [
    "<a id='t3'></a>\n",
    "## Task 3 - Build a baseline Tree model (5 Points).\n",
    "\n",
    "- Complete the following function that will establish a baseline score.  \n",
    "  - This function should retrieve and split the sensor data based on your previously constructed functions. Please use/default to, a split value of 0.2.  \n",
    "  - Using a _for loop_ or [list comprehension](https://www.w3schools.com/python/python_lists_comprehension.asp), extract a list of feature names that includes the substring **base_feature_selector** defined in the **[library imports](#library-imports)** cell above.  \n",
    "  - Create a [DecisionTreeClassifier](https://scikit-learn.org/stable/modules/generated/sklearn.tree.DecisionTreeClassifier.html#sklearn.tree.DecisionTreeClassifier) with default hyperparameters and the predetermined random_state value.\n",
    "    - Train this model on the features as extracted above.  \n",
    "  - Using the classifier's [score method](https://scikit-learn.org/stable/modules/generated/sklearn.tree.DecisionTreeClassifier.html#sklearn.tree.DecisionTreeClassifier.score), score the model using X_test and the previously extracted subset of features.  \n",
    "  - Finally return a tuple consisting of the list of extracted features and score.  \n",
    "\n",
    "<a href='#toc'>TOC</a>"
   ]
  },
  {
   "cell_type": "code",
   "execution_count": 20,
   "metadata": {
    "deletable": false,
    "editable": false,
    "nbgrader": {
     "cell_type": "code",
     "checksum": "9fdf2880fc2dfc587ab2cbea55883504",
     "grade": true,
     "grade_id": "cell-ecfcc56f82cb1990",
     "locked": true,
     "points": 0,
     "schema_version": 3,
     "solution": false,
     "task": false
    }
   },
   "outputs": [],
   "source": [
    "# hidden autograder codeblock\n",
    "task_id = \"3\""
   ]
  },
  {
   "cell_type": "code",
   "execution_count": 22,
   "metadata": {},
   "outputs": [
    {
     "name": "stdout",
     "output_type": "stream",
     "text": [
      "['ECG_original_mad_13', 'ECG_RR_window_mad_27', 'ECG_amplitude_RR_mad_41', 'ECG_HR_min_div_mad_55', 'ECG_hrv_mad_79', 'ECG_PSD_mad_93', 'ECG_p_VFL_mad_107', 'ECG_p_LF_mad_121', 'ECG_p_MF_mad_135', 'ECG_p_HF_mad_149', 'ECG_p_total_LF_mad_163', 'IT_Original_mad_187', 'IT_LF_mad_202', 'IT_RF_mad_217', 'IT_BRV_mad_233', 'IT_PSD_mad_247', 'IT_VLF_mad_261', 'IT_LF_mad_275', 'IT_MF_mad_289', 'IT_HF_mad_303', 'IT_p_Total_mad_317', 'EDA_Original_mad_338', 'EDA_processed_mad_352', 'EDA_Filt1_mad_366', 'EDA_Filt2_mad_380', 'EDA_Original_mad_442', 'EDA_processed_mad_456', 'EDA_Filt1_mad_470', 'EDA_Filt2_mad_484']\n"
     ]
    }
   ],
   "source": [
    "import pandas as pd\n",
    "mad_features = [col for col in X_train.columns if base_feature_selector in col]\n",
    "print(mad_features)"
   ]
  },
  {
   "cell_type": "code",
   "execution_count": 23,
   "metadata": {},
   "outputs": [],
   "source": [
    "x_trainSubjects = X_train['Subject_ID']"
   ]
  },
  {
   "cell_type": "code",
   "execution_count": 24,
   "metadata": {},
   "outputs": [],
   "source": [
    "from sklearn.tree import DecisionTreeClassifier\n",
    "from sklearn.feature_selection import SelectFromModel"
   ]
  },
  {
   "cell_type": "code",
   "execution_count": 25,
   "metadata": {
    "deletable": false,
    "nbgrader": {
     "cell_type": "code",
     "checksum": "33f22ea3fe3c28b9545331247c9e4e4e",
     "grade": false,
     "grade_id": "cell-d0e06f1c335ec617",
     "locked": false,
     "schema_version": 3,
     "solution": true,
     "task": false
    }
   },
   "outputs": [],
   "source": [
    "def baseline_model_one():\n",
    "    mad_features = [col for col in X_train.columns if base_feature_selector in col]\n",
    "    \n",
    "    clf = DecisionTreeClassifier(random_state=42).fit(X_train[mad_features], y_train) #random_state=42, min_samples_split=0.2\n",
    "    \n",
    "    score =clf.score(X_test[mad_features], y_test)\n",
    "    \n",
    "    features = list(clf.feature_names_in_)\n",
    "    \n",
    "    print(\"Accuracy of Decision Tree classifier on test set: {:.3f}\".format(score))\n",
    "    return (features, score)"
   ]
  },
  {
   "cell_type": "code",
   "execution_count": 26,
   "metadata": {},
   "outputs": [
    {
     "name": "stdout",
     "output_type": "stream",
     "text": [
      "Accuracy of Decision Tree classifier on test set: 0.816\n"
     ]
    },
    {
     "data": {
      "text/plain": [
       "(['ECG_original_mad_13',\n",
       "  'ECG_RR_window_mad_27',\n",
       "  'ECG_amplitude_RR_mad_41',\n",
       "  'ECG_HR_min_div_mad_55',\n",
       "  'ECG_hrv_mad_79',\n",
       "  'ECG_PSD_mad_93',\n",
       "  'ECG_p_VFL_mad_107',\n",
       "  'ECG_p_LF_mad_121',\n",
       "  'ECG_p_MF_mad_135',\n",
       "  'ECG_p_HF_mad_149',\n",
       "  'ECG_p_total_LF_mad_163',\n",
       "  'IT_Original_mad_187',\n",
       "  'IT_LF_mad_202',\n",
       "  'IT_RF_mad_217',\n",
       "  'IT_BRV_mad_233',\n",
       "  'IT_PSD_mad_247',\n",
       "  'IT_VLF_mad_261',\n",
       "  'IT_LF_mad_275',\n",
       "  'IT_MF_mad_289',\n",
       "  'IT_HF_mad_303',\n",
       "  'IT_p_Total_mad_317',\n",
       "  'EDA_Original_mad_338',\n",
       "  'EDA_processed_mad_352',\n",
       "  'EDA_Filt1_mad_366',\n",
       "  'EDA_Filt2_mad_380',\n",
       "  'EDA_Original_mad_442',\n",
       "  'EDA_processed_mad_456',\n",
       "  'EDA_Filt1_mad_470',\n",
       "  'EDA_Filt2_mad_484'],\n",
       " 0.8158482142857143)"
      ]
     },
     "execution_count": 26,
     "metadata": {},
     "output_type": "execute_result"
    }
   ],
   "source": [
    "# use this cell to explore your solution\n",
    "# Remember to comment the following function call before submitting the notebook.\n",
    "\n",
    "baseline_model_one()"
   ]
  },
  {
   "cell_type": "code",
   "execution_count": 27,
   "metadata": {
    "deletable": false,
    "editable": false,
    "nbgrader": {
     "cell_type": "code",
     "checksum": "3c7b29c71d2657128dcc29dc15054b63",
     "grade": true,
     "grade_id": "cell-3a13464f8906cbe6",
     "locked": true,
     "points": 5,
     "schema_version": 3,
     "solution": false,
     "task": false
    }
   },
   "outputs": [
    {
     "name": "stdout",
     "output_type": "stream",
     "text": [
      "Task 3 - AG tests\n",
      "Accuracy of Decision Tree classifier on test set: 0.816\n",
      "Task 3 - your answer:\n",
      "(['ECG_original_mad_13', 'ECG_RR_window_mad_27', 'ECG_amplitude_RR_mad_41', 'ECG_HR_min_div_mad_55', 'ECG_hrv_mad_79', 'ECG_PSD_mad_93', 'ECG_p_VFL_mad_107', 'ECG_p_LF_mad_121', 'ECG_p_MF_mad_135', 'ECG_p_HF_mad_149', 'ECG_p_total_LF_mad_163', 'IT_Original_mad_187', 'IT_LF_mad_202', 'IT_RF_mad_217', 'IT_BRV_mad_233', 'IT_PSD_mad_247', 'IT_VLF_mad_261', 'IT_LF_mad_275', 'IT_MF_mad_289', 'IT_HF_mad_303', 'IT_p_Total_mad_317', 'EDA_Original_mad_338', 'EDA_processed_mad_352', 'EDA_Filt1_mad_366', 'EDA_Filt2_mad_380', 'EDA_Original_mad_442', 'EDA_processed_mad_456', 'EDA_Filt1_mad_470', 'EDA_Filt2_mad_484'], 0.8158482142857143)\n"
     ]
    }
   ],
   "source": [
    "# Autograder tests\n",
    "print(f\"Task {task_id} - AG tests\")\n",
    "stu_ans = baseline_model_one()\n",
    "print(f\"Task {task_id} - your answer:\\n{stu_ans}\")\n",
    "\n",
    "assert isinstance(stu_ans, tuple), \"Task 3: Your function should return a tuple.\"\n",
    "\n",
    "assert isinstance(\n",
    "    stu_ans[0], list\n",
    "), f\"Task {task_id}: Tuple element zero should be a list object.\"\n",
    "\n",
    "assert isinstance(\n",
    "    stu_ans[1], np.float64\n",
    "), f\"Task {task_id}: Tuple element one should be a np.float64 value.\"\n",
    "\n",
    "# Some hidden tests\n",
    "\n",
    "del stu_ans"
   ]
  },
  {
   "cell_type": "markdown",
   "metadata": {
    "deletable": false,
    "editable": false,
    "nbgrader": {
     "cell_type": "markdown",
     "checksum": "fd00be2fcb2e13c5bd51d825f23426ea",
     "grade": false,
     "grade_id": "cell-3cdcaa635d0d50b5",
     "locked": true,
     "schema_version": 3,
     "solution": false,
     "task": false
    }
   },
   "source": [
    "<a id='t4'></a>\n",
    "## Task 4 - Baseline Tree model questions (3 Points).\n",
    "\n",
    "1. Does the default accuracy score returned by the model seem reasonable to you; why or why not?\n",
    "2. What might be the problem with this model or with the data?  \n",
    "\n",
    "<a href='#toc'>TOC</a>"
   ]
  },
  {
   "cell_type": "markdown",
   "metadata": {
    "deletable": false,
    "nbgrader": {
     "cell_type": "markdown",
     "checksum": "2dbe07b3481fb5120d11957b6db24684",
     "grade": true,
     "grade_id": "cell-63d35379db6841e9",
     "locked": false,
     "points": 0,
     "schema_version": 3,
     "solution": true,
     "task": false
    }
   },
   "source": [
    "The 81% accuracy score reflects the tree model's ability to correctly predict a classifier, given the multiple labels in the dataset. The breadth of labels suggests that the model posseses some rigor. The depth of the tree which was used is the default. This implies that the tree will use a minimum of two levels in order to predict a class of object. \n",
    "\n",
    "I am concerned about data leakage in this model. There are only four basic Activity Labels, which are dispersed across roughly four thousand instances, where only 40 users recorded their data. This implies that using a standard test-train split may expose the training data to leakage. Given the test split of 20%, this allows for a healthy segment of the data set to be used for training. However, if the individual users' data leaks between train and test, the trainer will have absorbed biased data. \n",
    "\n",
    "The number of labeled columns trained and fit by the tree creates a rich set of classifying features, but the strategy of the test/split will expose the model to situations where conditions are shared between test and train, thus creating an illusion that the prediction is better than it is. The reality is that rules learned by the decision tree in the training phase actually consumes use-cases which will exist within the test cases, thereby creating more accuracy in the score, without providing actual predictive capability in the model. \n",
    "\n",
    "The current strategy does not respect the boundary between use cases, grouped by Subject_ID. This means that as production data is put into the model, its performance will likely reduce."
   ]
  },
  {
   "cell_type": "markdown",
   "metadata": {
    "deletable": false,
    "editable": false,
    "nbgrader": {
     "cell_type": "markdown",
     "checksum": "39f6d948d9d0c3636168ae3d50a42ba1",
     "grade": false,
     "grade_id": "cell-6c9f9019196beec7",
     "locked": true,
     "schema_version": 3,
     "solution": false,
     "task": false
    }
   },
   "source": [
    "<a id='t5a'></a>\n",
    "## Task 5a- A custom train_test_split function (10 Points).\n",
    "\n",
    " - Because of the nature of the original experiment's data collection methodology, the standard sklearn train_test_split() method cannot be applied successfully to this dataset. \n",
    " - The first significant task will be to create a 'custom_train_test_split()' function that will correctly separate train data from test data, given the structure of the data in the sensor dataset.  \n",
    " - Your function should accept two arguments:  \n",
    "   - A Pandas DataFrame such as returned by your get_sensor_data() function.\n",
    "   - **Note**, your train and test data should **retain** the 'Subject_ID' column!\n",
    "     - This is **NOT** a requirement to use the 'Subject_ID' in the model.\n",
    "   - An integer ___or___ float value that indicates the count or proportion of the **test** data split.\n",
    "   - In accordance with SciKit-Learn standards, split count determinations should round up.\n",
    "   - Again, any random_state or seed values should be initialized with an integer value of 42.\n",
    " - Helpful Libraries and functions:\n",
    "   - [numpy.random](https://numpy.org/doc/stable/reference/random/index.html)\n",
    "     - numpy.random.seed()\n",
    "     - numpy.random.choice()\n",
    "   - Python [math](https://docs.python.org/3/library/math.html)  \n",
    "     - math.ceil()  \n",
    "  \n",
    " - Questions to keep in mind while creating this function:\n",
    "   - How might this function accept and use an integer or float value for the purpose of dividing the dataset?\n",
    "   - How do I ensure consistent random selection for reproducibility?\n",
    "   - Most importantly, how do I split this data to avoid one of the more devastating issues in machine learning?  \n",
    "\n",
    "<a href='#toc'>TOC</a>"
   ]
  },
  {
   "cell_type": "code",
   "execution_count": 28,
   "metadata": {
    "deletable": false,
    "editable": false,
    "nbgrader": {
     "cell_type": "code",
     "checksum": "0fb95945bd59bdbea9f2953bd36b0634",
     "grade": true,
     "grade_id": "cell-19641eabf59826f7",
     "locked": true,
     "points": 0,
     "schema_version": 3,
     "solution": false,
     "task": false
    }
   },
   "outputs": [],
   "source": [
    "# hidden autograder codeblock\n",
    "task_id = \"5a\""
   ]
  },
  {
   "cell_type": "code",
   "execution_count": 29,
   "metadata": {},
   "outputs": [],
   "source": [
    "import random"
   ]
  },
  {
   "cell_type": "code",
   "execution_count": null,
   "metadata": {
    "deletable": false,
    "nbgrader": {
     "cell_type": "code",
     "checksum": "ec171012e73cc678359da64e81be678c",
     "grade": false,
     "grade_id": "cell-1618476de514a891",
     "locked": false,
     "schema_version": 3,
     "solution": true,
     "task": false
    }
   },
   "outputs": [],
   "source": []
  },
  {
   "cell_type": "code",
   "execution_count": 30,
   "metadata": {},
   "outputs": [],
   "source": [
    "def custom_train_test_split(df, test_size=0.2):\n",
    "    X_train, X_test, y_train, y_test = (None,) * 4\n",
    "    np.random.seed(42)\n",
    "#     df=get_sensor_data()\n",
    "    if test_size <1:\n",
    "        test_size = math.ceil(test_size * 40)\n",
    "        print(\"test size =>\", test_size)\n",
    "    idSet = list(df['Subject_ID'].unique())\n",
    "    limit = len(idSet)\n",
    "    test_randoms = np.random.choice(limit, test_size, replace=False)\n",
    "    test_subjects = []\n",
    "    for r in test_randoms:\n",
    "        test_subjects.append(idSet[r])\n",
    "#     print(\"TEST subjects:\",test_subjects)\n",
    "                                #generate test_df by getting all rows where subject_id is in test_subjects\n",
    "    x_test = df[df['Subject_ID'].isin(test_subjects)]\n",
    "                                #gets subject_id where idSet is not in test_randoms\n",
    "    limitList = np.arange(limit)\n",
    "#     print(limitList)\n",
    "    tr = np.array(test_randoms)\n",
    "#     print(\"test numbers\",tr)\n",
    "    train_ids = np.setdiff1d(limitList,tr)\n",
    "#     print(\"TRAIN ids:\",train_ids)\n",
    "    train_subjects = []\n",
    "    for i in train_ids:\n",
    "        train_subjects.append(idSet[i])\n",
    "#     print(\"TRAIN SUBJECTS:\",train_subjects)\n",
    "        \n",
    "    x_train = df[df['Subject_ID'].isin(train_subjects)]     \n",
    "    \n",
    "    y_test = x_test['Activity_Label']\n",
    "    y_train = x_train['Activity_Label']\n",
    "    x_train = x_train.drop(['Activity_Label'], axis=1)\n",
    "    x_test = x_test.drop(['Activity_Label'], axis=1)\n",
    "    return x_train, x_test, y_train, y_test"
   ]
  },
  {
   "cell_type": "code",
   "execution_count": 31,
   "metadata": {},
   "outputs": [
    {
     "name": "stdout",
     "output_type": "stream",
     "text": [
      "test size => 8\n"
     ]
    }
   ],
   "source": [
    "def test_my_code():\n",
    "    test_size = .2\n",
    "    df = get_sensor_data()\n",
    "\n",
    "    X_train, X_test, y_train, y_test = custom_train_test_split(df, test_size=test_size)\n",
    "\n",
    "#     print(f\"{df.shape[0]}, {X_train.shape[0]}, {X_test.shape[0]}\")\n",
    "#     print(\"y_test\", type(y_train))\n",
    "#     print(\"y_test\")\n",
    "#     print(y_test.head(1), y_test.shape[0])\n",
    "#     print(\"X_train:\")\n",
    "#     print(X_train.columns, X_train.shape[0])\n",
    "\n",
    "#     print(\"X_train\", X_train.head())\n",
    "    return None\n",
    "test_my_code()"
   ]
  },
  {
   "cell_type": "code",
   "execution_count": 32,
   "metadata": {
    "deletable": false,
    "editable": false,
    "nbgrader": {
     "cell_type": "code",
     "checksum": "5eba886b08f5f570d34c5e1247aeeac0",
     "grade": true,
     "grade_id": "cell-2c97a65714518e45",
     "locked": true,
     "points": 10,
     "schema_version": 3,
     "solution": false,
     "task": false
    }
   },
   "outputs": [
    {
     "name": "stdout",
     "output_type": "stream",
     "text": [
      "Task 5a - AG tests\n"
     ]
    }
   ],
   "source": [
    "# Autograder tests\n",
    "print(f\"Task {task_id} - AG tests\")\n",
    "\n",
    "test_size = 5\n",
    "df = get_sensor_data()\n",
    "\n",
    "stu_ans = custom_train_test_split(df, test_size)\n",
    "\n",
    "# print(f\"Task {task_id} - your answer:\\n{stu_ans}\")\n",
    "\n",
    "assert isinstance(\n",
    "    stu_ans[0], pd.DataFrame\n",
    "), f\"Task {task_id}: X_train should be a pd.DataFrame\"\n",
    "\n",
    "assert isinstance(\n",
    "    stu_ans[2], pd.Series\n",
    "), f\"Task {task_id}: y_train should be a pd.Series\"\n",
    "\n",
    "# Some hidden tests\n",
    "\n",
    "del stu_ans"
   ]
  },
  {
   "cell_type": "markdown",
   "metadata": {
    "deletable": false,
    "editable": false,
    "nbgrader": {
     "cell_type": "markdown",
     "checksum": "736a0029dfa5df3738ac141acc658bd3",
     "grade": false,
     "grade_id": "cell-7bdfb63c135245d2",
     "locked": true,
     "schema_version": 3,
     "solution": false,
     "task": false
    }
   },
   "source": [
    "<a id='t5b'></a>\n",
    "## Task 5b - Run a baseline_model using your custom data splitter\n",
    "- Copy/Paste your baseline model code from above into the function below.  \n",
    "  - Replace the std_train_test_split() function with your new custom_train_test_split().\n",
    "    - Use the default split of 0.2.\n",
    "  - Run this revised function and answer the questions below.  \n",
    "\n",
    "<a href='#toc'>TOC</a>"
   ]
  },
  {
   "cell_type": "code",
   "execution_count": 33,
   "metadata": {
    "deletable": false,
    "editable": false,
    "nbgrader": {
     "cell_type": "code",
     "checksum": "4dc2020042175358a7cb80bc16c6e7f0",
     "grade": true,
     "grade_id": "cell-3da8d537082beef3",
     "locked": true,
     "points": 0,
     "schema_version": 3,
     "solution": false,
     "task": false
    }
   },
   "outputs": [],
   "source": [
    "# hidden autograder codeblock\n",
    "task_id = \"5b\""
   ]
  },
  {
   "cell_type": "code",
   "execution_count": 34,
   "metadata": {
    "deletable": false,
    "nbgrader": {
     "cell_type": "code",
     "checksum": "73b7ba248c227765f6d541fc39bf90ef",
     "grade": false,
     "grade_id": "cell-f837ef40fcc382ee",
     "locked": false,
     "schema_version": 3,
     "solution": true,
     "task": false
    }
   },
   "outputs": [
    {
     "name": "stdout",
     "output_type": "stream",
     "text": [
      "test size => 8\n"
     ]
    }
   ],
   "source": [
    "X_train, X_test, y_train, y_test = custom_train_test_split(get_sensor_data(), test_size=0.2)\n",
    "def baseline_model_two():\n",
    "    mad_features = [col for col in X_train.columns if base_feature_selector in col]\n",
    "    \n",
    "    clf = DecisionTreeClassifier(random_state=42).fit(X_train[mad_features], y_train) #random_state=42, min_samples_split=0.2\n",
    "    \n",
    "    score =clf.score(X_test[mad_features], y_test)\n",
    "    \n",
    "    features = list(clf.feature_names_in_)\n",
    "    \n",
    "    print(\"Accuracy of Decision Tree classifier on test set: {:.3f}\".format(score))\n",
    "    return (features, score)"
   ]
  },
  {
   "cell_type": "code",
   "execution_count": 35,
   "metadata": {},
   "outputs": [
    {
     "name": "stdout",
     "output_type": "stream",
     "text": [
      "Accuracy of Decision Tree classifier on test set: 0.637\n"
     ]
    },
    {
     "data": {
      "text/plain": [
       "(['ECG_original_mad_13',\n",
       "  'ECG_RR_window_mad_27',\n",
       "  'ECG_amplitude_RR_mad_41',\n",
       "  'ECG_HR_min_div_mad_55',\n",
       "  'ECG_hrv_mad_79',\n",
       "  'ECG_PSD_mad_93',\n",
       "  'ECG_p_VFL_mad_107',\n",
       "  'ECG_p_LF_mad_121',\n",
       "  'ECG_p_MF_mad_135',\n",
       "  'ECG_p_HF_mad_149',\n",
       "  'ECG_p_total_LF_mad_163',\n",
       "  'IT_Original_mad_187',\n",
       "  'IT_LF_mad_202',\n",
       "  'IT_RF_mad_217',\n",
       "  'IT_BRV_mad_233',\n",
       "  'IT_PSD_mad_247',\n",
       "  'IT_VLF_mad_261',\n",
       "  'IT_LF_mad_275',\n",
       "  'IT_MF_mad_289',\n",
       "  'IT_HF_mad_303',\n",
       "  'IT_p_Total_mad_317',\n",
       "  'EDA_Original_mad_338',\n",
       "  'EDA_processed_mad_352',\n",
       "  'EDA_Filt1_mad_366',\n",
       "  'EDA_Filt2_mad_380',\n",
       "  'EDA_Original_mad_442',\n",
       "  'EDA_processed_mad_456',\n",
       "  'EDA_Filt1_mad_470',\n",
       "  'EDA_Filt2_mad_484'],\n",
       " 0.6372767857142857)"
      ]
     },
     "execution_count": 35,
     "metadata": {},
     "output_type": "execute_result"
    }
   ],
   "source": [
    "# use this cell to explore your solution\n",
    "# Remember to comment the following function call before submitting the notebook.\n",
    "\n",
    "baseline_model_two()"
   ]
  },
  {
   "cell_type": "code",
   "execution_count": 36,
   "metadata": {
    "deletable": false,
    "editable": false,
    "nbgrader": {
     "cell_type": "code",
     "checksum": "b16770566f1e6e4b1a316d0d5cd8f10f",
     "grade": true,
     "grade_id": "cell-72944b90c520abfe",
     "locked": true,
     "points": 0,
     "schema_version": 3,
     "solution": false,
     "task": false
    }
   },
   "outputs": [
    {
     "name": "stdout",
     "output_type": "stream",
     "text": [
      "Task 5b - AG tests\n",
      "Accuracy of Decision Tree classifier on test set: 0.637\n",
      "Task 5b - your answer:\n",
      "(['ECG_original_mad_13', 'ECG_RR_window_mad_27', 'ECG_amplitude_RR_mad_41', 'ECG_HR_min_div_mad_55', 'ECG_hrv_mad_79', 'ECG_PSD_mad_93', 'ECG_p_VFL_mad_107', 'ECG_p_LF_mad_121', 'ECG_p_MF_mad_135', 'ECG_p_HF_mad_149', 'ECG_p_total_LF_mad_163', 'IT_Original_mad_187', 'IT_LF_mad_202', 'IT_RF_mad_217', 'IT_BRV_mad_233', 'IT_PSD_mad_247', 'IT_VLF_mad_261', 'IT_LF_mad_275', 'IT_MF_mad_289', 'IT_HF_mad_303', 'IT_p_Total_mad_317', 'EDA_Original_mad_338', 'EDA_processed_mad_352', 'EDA_Filt1_mad_366', 'EDA_Filt2_mad_380', 'EDA_Original_mad_442', 'EDA_processed_mad_456', 'EDA_Filt1_mad_470', 'EDA_Filt2_mad_484'], 0.6372767857142857)\n"
     ]
    }
   ],
   "source": [
    "# Autograder tests\n",
    "print(f\"Task {task_id} - AG tests\")\n",
    "stu_ans = baseline_model_two()\n",
    "\n",
    "print(f\"Task {task_id} - your answer:\\n{stu_ans}\")\n",
    "\n",
    "assert isinstance(stu_ans, tuple), \"Task 5b: Your function should return a tuple.\"\n",
    "\n",
    "assert isinstance(\n",
    "    stu_ans[0], list\n",
    "), f\"Task {task_id}: Tuple element zero should be a list object.\"\n",
    "\n",
    "assert isinstance(\n",
    "    stu_ans[1], np.float64\n",
    "), f\"Task {task_id}: Tuple element one should be a np.float64 value.\"\n",
    "\n",
    "\n",
    "del stu_ans"
   ]
  },
  {
   "cell_type": "markdown",
   "metadata": {
    "deletable": false,
    "editable": false,
    "nbgrader": {
     "cell_type": "markdown",
     "checksum": "4b81f5a7173db01fec2ef9bf8926c527",
     "grade": false,
     "grade_id": "cell-21809bc2608e0994",
     "locked": true,
     "schema_version": 3,
     "solution": false,
     "task": false
    }
   },
   "source": [
    "<a id='t5c'></a>\n",
    "## Task 5c - Custom train/test split questions (2 Points).\n",
    "\n",
    "1. Is the score of the model that incorporates custom_train_test_split() significantly different from the std_train_test_split() version?  \n",
    "2. What issue(s) have we eliminated with our new custom_train_test_split() function?  \n",
    "\n",
    "<a href='#toc'>TOC</a>"
   ]
  },
  {
   "cell_type": "markdown",
   "metadata": {
    "deletable": false,
    "nbgrader": {
     "cell_type": "markdown",
     "checksum": "c97c9a253e5e8eec91e31911e863cd57",
     "grade": true,
     "grade_id": "cell-175bb32a2a2293c4",
     "locked": false,
     "points": 0,
     "schema_version": 3,
     "solution": true,
     "task": false
    }
   },
   "source": [
    "YOUR ANSWER HERE\n",
    "1. the custom test/train split, scored significantly lower than the original baseline (~68% versus ~81%). \n",
    "\n",
    "2. in constructing the new custom split, a rigorous boundary was created between test and training data, through these techniques:\n",
    "* in the custom split, a radomization was used, in order to remove grouped or sequenced entries, thus removing sequential sets of rows from whatever context they had. This removes bias in the data set, and improves generality. \n",
    "* the new custom split also ensured data could not leak between train and test, thus causing the score to be artificially accurate. The custom split explicitly prevented testing data from being fit, using our predictive measure. \n",
    "* I suspect that the baseline score did result from randomization. Thus, some bias could have been removed from the standard split. However, the subject_id field was a key organizational tool, in the custom split. Thus, subject_id was used to organize the subjects, not row. This means that no subject_id entries could have been leaked between train and test sets, thus improving the prediction score and undermining its accuracy against false positives."
   ]
  },
  {
   "cell_type": "markdown",
   "metadata": {
    "deletable": false,
    "editable": false,
    "nbgrader": {
     "cell_type": "markdown",
     "checksum": "100121314bbd7477eb138872a8ea2439",
     "grade": false,
     "grade_id": "cell-2e0f6b0e6c8930f2",
     "locked": true,
     "schema_version": 3,
     "solution": false,
     "task": false
    }
   },
   "source": [
    "<a id='t6'></a>\n",
    "## Task 6 - Confusion Matrix (5 Points).\n",
    "\n",
    " - We now want to better understand the relationship of correct and incorrect predictons made by a classification model. A very useful tool for examining a multiclass outcome, such as we have with our sensor dataset, is the [Confusion Matrix](https://scikit-learn.org/stable/modules/generated/sklearn.metrics.confusion_matrix.html#sklearn.metrics.confusion_matrix)\n",
    " - Using the SciKit-Learn [LogisticRegression](https://scikit-learn.org/stable/modules/generated/sklearn.linear_model.LogisticRegression.html#sklearn.linear_model.LogisticRegression) model, create a function that returns a Confusion Matrix.\n",
    "   - Your function should accept zero arguments.  \n",
    "   - Set hyperparameter: max_iter=1000\n",
    "   - Any random_state or seed values should be initialized with an integer value of 42.\n",
    " - Use your previously defined functions to derive your train and test sets.\n",
    " - Scaling is an important factor in many Machine Learning projects (See section 3.3 in the course textbook). For the current dataset, use the sklearn method StandardScaler() to scale the train and test sets.\n",
    " - Using code that you had previously developed, include all features who's name includes the substring defined in \n",
    "**base_feature_selector** ([library imports](#library-imports)).\n",
    "- Your function should return the following tuple:  \n",
    "   - The confusion matrix array as returned by the sklean method confusion_matrix().  \n",
    "\n",
    "<a href='#toc'>TOC</a>"
   ]
  },
  {
   "cell_type": "code",
   "execution_count": 37,
   "metadata": {
    "deletable": false,
    "editable": false,
    "nbgrader": {
     "cell_type": "code",
     "checksum": "889f01ae32fe15408e098823a77c9623",
     "grade": true,
     "grade_id": "cell-31043e0e4351d70e",
     "locked": true,
     "points": 0,
     "schema_version": 3,
     "solution": false,
     "task": false
    }
   },
   "outputs": [],
   "source": [
    "# hidden autograder codeblock\n",
    "task_id = \"6\""
   ]
  },
  {
   "cell_type": "code",
   "execution_count": 38,
   "metadata": {},
   "outputs": [],
   "source": [
    "from sklearn import metrics\n",
    "from sklearn.linear_model import LogisticRegression\n",
    "from sklearn.preprocessing import StandardScaler\n",
    "from sklearn.model_selection import train_test_split"
   ]
  },
  {
   "cell_type": "code",
   "execution_count": 39,
   "metadata": {},
   "outputs": [],
   "source": [
    "mad_features = [col for col in X_train.columns if base_feature_selector in col]"
   ]
  },
  {
   "cell_type": "code",
   "execution_count": 40,
   "metadata": {
    "deletable": false,
    "nbgrader": {
     "cell_type": "code",
     "checksum": "72e55aa734b1946cc4adfdde617cf270",
     "grade": false,
     "grade_id": "cell-02b6f1ff73a7c6a8",
     "locked": false,
     "schema_version": 3,
     "solution": true,
     "task": false
    }
   },
   "outputs": [],
   "source": [
    "def LR_confusion_matrix():\n",
    "    X_train, X_test, y_train, y_test = custom_train_test_split(get_sensor_data(), test_size=0.2)\n",
    "    mad_features = [col for col in X_train.columns if base_feature_selector in col]\n",
    "    scaler = StandardScaler().fit(X_train[mad_features])\n",
    "    X_train2 = scaler.transform(X_train[mad_features])  #\n",
    "    X_test2 = scaler.transform(X_test[mad_features])\n",
    "\n",
    "    # Train model\n",
    "    model = LogisticRegression(max_iter=1000, random_state=42)\n",
    "    model.fit(X_train2, y_train)\n",
    "\n",
    "    # Predict on test set\n",
    "    y_pred = model.predict(X_test2)\n",
    "    conf_matrix = confusion_matrix(y_test, y_pred) \n",
    "    # Create confusion matrix\n",
    "#     conf_matrix = metrics.confusion_matrix(y_test, y_pred)\n",
    "    print(confusion_matrix)\n",
    "    print(\"total tests\", X_test2.shape[0])\n",
    "    print(\"total predictions\", y_pred.shape[0], type(y_pred))\n",
    "    return conf_matrix"
   ]
  },
  {
   "cell_type": "code",
   "execution_count": 41,
   "metadata": {},
   "outputs": [
    {
     "name": "stdout",
     "output_type": "stream",
     "text": [
      "test size => 8\n",
      "<function confusion_matrix at 0x7f7de00fec10>\n",
      "total tests 896\n",
      "total predictions 896 <class 'numpy.ndarray'>\n"
     ]
    },
    {
     "data": {
      "text/plain": [
       "array([[135,  58,  31,   0],\n",
       "       [  4, 180,  40,   0],\n",
       "       [ 10,  98, 110,   6],\n",
       "       [  0,  31,  33, 160]])"
      ]
     },
     "execution_count": 41,
     "metadata": {},
     "output_type": "execute_result"
    }
   ],
   "source": [
    "# use this cell to explore your solution\n",
    "# Remember to comment the following function call before submitting the notebook.\n",
    "\n",
    "LR_confusion_matrix()"
   ]
  },
  {
   "cell_type": "code",
   "execution_count": 42,
   "metadata": {
    "deletable": false,
    "editable": false,
    "nbgrader": {
     "cell_type": "code",
     "checksum": "1420b1788755aef715e8d30e9b15c697",
     "grade": true,
     "grade_id": "cell-9ce7903f9c06f5f5",
     "locked": true,
     "points": 5,
     "schema_version": 3,
     "solution": false,
     "task": false
    }
   },
   "outputs": [
    {
     "name": "stdout",
     "output_type": "stream",
     "text": [
      "Task 6 - AG tests\n",
      "test size => 8\n",
      "<function confusion_matrix at 0x7f7de00fec10>\n",
      "total tests 896\n",
      "total predictions 896 <class 'numpy.ndarray'>\n",
      "Task 6 - your answer:\n",
      "[[135  58  31   0]\n",
      " [  4 180  40   0]\n",
      " [ 10  98 110   6]\n",
      " [  0  31  33 160]]\n"
     ]
    }
   ],
   "source": [
    "# Autograder tests\n",
    "print(f\"Task {task_id} - AG tests\")\n",
    "stu_ans = LR_confusion_matrix()\n",
    "\n",
    "print(f\"Task {task_id} - your answer:\\n{stu_ans}\")\n",
    "\n",
    "assert isinstance(\n",
    "    stu_ans, np.ndarray\n",
    "), f\"Task {task_id}: The second tuple element should be an np.ndarray\"\n",
    "\n",
    "\n",
    "del stu_ans"
   ]
  },
  {
   "cell_type": "markdown",
   "metadata": {
    "deletable": false,
    "editable": false,
    "nbgrader": {
     "cell_type": "markdown",
     "checksum": "ef11b7c4d3fae4bfdde4f5936c08cf03",
     "grade": false,
     "grade_id": "cell-4c32db5c2bff0137",
     "locked": true,
     "schema_version": 3,
     "solution": false,
     "task": false
    }
   },
   "source": [
    "<a id='vcm'></a>\n",
    "## Visualizing the Confusion Matrix\n",
    "<a href='#toc'>TOC</a>"
   ]
  },
  {
   "cell_type": "code",
   "execution_count": 43,
   "metadata": {
    "deletable": false,
    "editable": false,
    "nbgrader": {
     "cell_type": "code",
     "checksum": "b8e666ad0ca9607d5bf7f7e7f59d246b",
     "grade": false,
     "grade_id": "cell-740465ee9e481736",
     "locked": true,
     "schema_version": 3,
     "solution": false,
     "task": false
    }
   },
   "outputs": [],
   "source": [
    "def plot_confusion():\n",
    "    cm = LR_confusion_matrix()\n",
    "    labels = {\"neutral\": 1, \"emotional\": 2, \"mental\": 3, \"physical\": 4}.keys()\n",
    "    display_cm = ConfusionMatrixDisplay(confusion_matrix=cm, display_labels=labels)\n",
    "    display_cm.plot()\n",
    "    plt.show()"
   ]
  },
  {
   "cell_type": "code",
   "execution_count": 44,
   "metadata": {},
   "outputs": [
    {
     "name": "stdout",
     "output_type": "stream",
     "text": [
      "test size => 8\n",
      "<function confusion_matrix at 0x7f7de00fec10>\n",
      "total tests 896\n",
      "total predictions 896 <class 'numpy.ndarray'>\n"
     ]
    },
    {
     "data": {
      "image/png": "[encoded data removed]",
      "text/plain": [
       "<Figure size 640x480 with 2 Axes>"
      ]
     },
     "metadata": {},
     "output_type": "display_data"
    }
   ],
   "source": [
    "# use this cell to explore your solution\n",
    "# Remember to comment the following function call before submitting the notebook.\n",
    "\n",
    "plot_confusion()"
   ]
  },
  {
   "cell_type": "markdown",
   "metadata": {
    "deletable": false,
    "editable": false,
    "nbgrader": {
     "cell_type": "markdown",
     "checksum": "12a957b449585b003807a0e6e5f0eb14",
     "grade": false,
     "grade_id": "cell-3a8431087ad8d20c",
     "locked": true,
     "schema_version": 3,
     "solution": false,
     "task": false
    },
    "slideshow": {
     "slide_type": "subslide"
    }
   },
   "source": [
    "<a id='t7'></a>\n",
    "## Task 7 - Basic Confusion Matrix Understanding (5 Points).\n",
    "\n",
    " - Answer the following questions concerning the above Confusion Matrix.  \n",
    " - Record (hardcode) your answers in the answer variables in the cell below for autograding purposes.  \n",
    " - Your answers should use the Python types **int**, **float**, or **str** as appropriate.\n",
    " \n",
    "Q1. What is the number of __Correctly Predicted__ for the _mental_ activity?  \n",
    "Q2. How many __False Positive__ predictions were made for the _neutral_ activity?  \n",
    "Q3. How many __False Negative__ predictions were made for the _physical_ activity?  \n",
    "Q4. What is the __Precision__ Score for the _mental_ activity? (round to three decimal places)  \n",
    "Q5. What is the __Recall__ Score for the _emotional_ activity? (round to three decimal places)  \n",
    "Q6. What is the overall __Accuracy__ for the current model? (round to three decimal places)  \n",
    "Q7. Which activity is most confused for _mental_ activity when not?  \n",
    "\n",
    "<a href='#toc'>TOC</a>"
   ]
  },
  {
   "cell_type": "code",
   "execution_count": 45,
   "metadata": {
    "deletable": false,
    "editable": false,
    "nbgrader": {
     "cell_type": "code",
     "checksum": "fab445f7002d62016b0483847a49d2a2",
     "grade": true,
     "grade_id": "cell-0a69762d0a229166",
     "locked": true,
     "points": 0,
     "schema_version": 3,
     "solution": false,
     "task": false
    }
   },
   "outputs": [],
   "source": [
    "# hidden autograder codeblock\n",
    "task_id = \"7\""
   ]
  },
  {
   "cell_type": "code",
   "execution_count": null,
   "metadata": {
    "deletable": false,
    "nbgrader": {
     "cell_type": "code",
     "checksum": "7eaa4f43e7c59f6e10d15e6c1636a047",
     "grade": false,
     "grade_id": "cell-aa8a1e16f3e1108a",
     "locked": false,
     "schema_version": 3,
     "solution": true,
     "task": false
    }
   },
   "outputs": [],
   "source": []
  },
  {
   "cell_type": "code",
   "execution_count": 96,
   "metadata": {
    "deletable": false,
    "editable": false,
    "nbgrader": {
     "cell_type": "code",
     "checksum": "b4c08bdea19dddf92003c5d0f195a639",
     "grade": true,
     "grade_id": "cell-6c520b1fae9d0a50",
     "locked": true,
     "points": 5,
     "schema_version": 3,
     "solution": false,
     "task": false
    }
   },
   "outputs": [
    {
     "name": "stdout",
     "output_type": "stream",
     "text": [
      "Task 10 - AG tests\n",
      "Task 10 - your answer:\n",
      "(110, 14, 64, 0.514, 49.046, 65.29, 'emotional')\n"
     ]
    }
   ],
   "source": [
    "# Autograder tests\n",
    "print(f\"Task {task_id} - AG tests\")\n",
    "stu_ans = confusion_matrix_questions()\n",
    "\n",
    "print(f\"Task {task_id} - your answer:\\n{stu_ans}\")\n",
    "\n",
    "assert (\n",
    "    len(stu_ans) == 7\n",
    "), f\"Task {task_id}: Your answer tuple does not contain the correct number of answers.\"\n",
    "assert isinstance(stu_ans[0], int), f\"Task {task_id}: Answer one should be an integer\"\n",
    "assert isinstance(stu_ans[1], int), f\"Task {task_id}: Answer two should be an integer\"\n",
    "assert isinstance(stu_ans[2], int), f\"Task {task_id}: Answer three should be an integer\"\n",
    "assert isinstance(stu_ans[3], float), f\"Task {task_id}: Answer four should be a float\"\n",
    "assert isinstance(stu_ans[4], float), f\"Task {task_id}: Answer five should be a float\"\n",
    "assert isinstance(stu_ans[5], float), f\"Task {task_id}: Answer six should be a float\"\n",
    "assert isinstance(stu_ans[6], str), f\"Task {task_id}: Answer seven should be a string\"\n",
    "\n",
    "\n",
    "del stu_ans"
   ]
  },
  {
   "cell_type": "markdown",
   "metadata": {
    "deletable": false,
    "editable": false,
    "nbgrader": {
     "cell_type": "markdown",
     "checksum": "b77416d3cbdbf0726f6d02d69c434766",
     "grade": false,
     "grade_id": "cell-1aeefba857843791",
     "locked": true,
     "schema_version": 3,
     "solution": false,
     "task": false
    }
   },
   "source": [
    "<a id='t8'></a>\n",
    "## Task 8 - Feature Importance, part 1 (5 Points).\n",
    "#### Now we want to explore how some models are able to provide additional insight into the features that played a prominent role in the estimation outcome.\n",
    " - Produce a function that implements a RandomForestClassifier model, which includes the [**feature_importances_**](https://scikit-learn.org/stable/modules/generated/sklearn.tree.DecisionTreeClassifier.html#sklearn.tree.DecisionTreeClassifier.feature_importances_) attribute.\n",
    "- The function accepts a single argument for the top X number of features, the default value will be 10.\n",
    "  - The classifier should use only two parameters:\n",
    "    - random_state=42\n",
    "    - n_jobs=-1\n",
    "- Use your previously defined functions to derive your train and test sets.\n",
    "- Using code that you had previously developed, include all features who's name includes the substring defined by **base_feature_selector** ([library imports](#library-imports)).\n",
    " - The function should return a tuple of two elements.\n",
    "   - The first element will be a **sorted** list of tuples in the form **\\[('feature_name', importance_value),...\\]**. The list of tuples should be sorted in descending order.\n",
    "     - This list of tuples should be sorted in **descending order** of feature_importance.\n",
    "   - The second element (test data score) should be an np.float64 value.  \n",
    "\n",
    "<a href='#toc'>TOC</a>"
   ]
  },
  {
   "cell_type": "code",
   "execution_count": 48,
   "metadata": {
    "deletable": false,
    "editable": false,
    "nbgrader": {
     "cell_type": "code",
     "checksum": "c296f586bf90361275af27ae360a7e16",
     "grade": true,
     "grade_id": "cell-74def7d945e536be",
     "locked": true,
     "points": 0,
     "schema_version": 3,
     "solution": false,
     "task": false
    }
   },
   "outputs": [],
   "source": [
    "# hidden autograder codeblock\n",
    "task_id = \"8\""
   ]
  },
  {
   "cell_type": "code",
   "execution_count": 49,
   "metadata": {},
   "outputs": [],
   "source": [
    "from sklearn.ensemble import RandomForestClassifier\n",
    "from sklearn.preprocessing import StandardScaler\n",
    "from sklearn.model_selection import train_test_split\n",
    "import pandas as pd\n",
    "import numpy as np"
   ]
  },
  {
   "cell_type": "code",
   "execution_count": 51,
   "metadata": {
    "deletable": false,
    "nbgrader": {
     "cell_type": "code",
     "checksum": "e3235be835faf0804ca3bf3a2699dab4",
     "grade": false,
     "grade_id": "cell-ffe4926e6361f5fd",
     "locked": false,
     "schema_version": 3,
     "solution": true,
     "task": false
    }
   },
   "outputs": [
    {
     "name": "stdout",
     "output_type": "stream",
     "text": [
      "test size => 8\n"
     ]
    },
    {
     "data": {
      "text/plain": [
       "([('IT_Original_mad_187', 0.11256580865773229),\n",
       "  ('IT_LF_mad_202', 0.09870328537109924),\n",
       "  ('IT_RF_mad_217', 0.0671973359402965),\n",
       "  ('ECG_original_mad_13', 0.0654974139451176),\n",
       "  ('ECG_amplitude_RR_mad_41', 0.05722319121238872),\n",
       "  ('EDA_processed_mad_456', 0.043237638008223805),\n",
       "  ('ECG_HR_min_div_mad_55', 0.04086105034492251),\n",
       "  ('IT_p_Total_mad_317', 0.038767754759935644),\n",
       "  ('IT_PSD_mad_247', 0.03813835740667452),\n",
       "  ('ECG_RR_window_mad_27', 0.03673768438730162)],\n",
       " 0.6863839285714286)"
      ]
     },
     "execution_count": 51,
     "metadata": {},
     "output_type": "execute_result"
    }
   ],
   "source": [
    "def get_top_features(top=10):\n",
    "    # Train model\n",
    "    X_train, X_test, y_train, y_test = custom_train_test_split(get_sensor_data(), test_size=0.2)\n",
    "    mad_features = [col for col in X_train.columns if base_feature_selector in col]\n",
    "    model = RandomForestClassifier(random_state=42, n_jobs=-1)\n",
    "    model.fit(X_train[mad_features], y_train)\n",
    "\n",
    "    # Get feature importances\n",
    "#     print(\"Feature importances: {}\".format(model.feature_importances_))\n",
    "    feature_importances = list(zip(X_train[mad_features].columns[:-1], model.feature_importances_))\n",
    "#     print(\"1\",feature_importances)\n",
    "\n",
    "    feature_importances.sort(key=lambda x: x[1], reverse=True)\n",
    "#     print(\"2\",feature_importances)\n",
    "    # Get test score\n",
    "    test_score = np.float64(model.score(X_test[mad_features], y_test))\n",
    "\n",
    "    # Return tuple of feature importances and test score\n",
    "    return (feature_importances[:top], test_score)\n",
    " \n",
    "#     top_x, score = None, None\n",
    "#     return top_x, score\n",
    "get_top_features()"
   ]
  },
  {
   "cell_type": "code",
   "execution_count": 52,
   "metadata": {
    "deletable": false,
    "editable": false,
    "nbgrader": {
     "cell_type": "code",
     "checksum": "6a56905475c6f77ebbe7eda9f0ba456c",
     "grade": true,
     "grade_id": "cell-b112a369a5bef4a9",
     "locked": true,
     "points": 5,
     "schema_version": 3,
     "solution": false,
     "task": false
    }
   },
   "outputs": [
    {
     "name": "stdout",
     "output_type": "stream",
     "text": [
      "Task 8 - AG tests\n",
      "test size => 8\n",
      "Task 8 - your answer:\n",
      "([('IT_Original_mad_187', 0.11256580865773229), ('IT_LF_mad_202', 0.09870328537109924), ('IT_RF_mad_217', 0.0671973359402965), ('ECG_original_mad_13', 0.0654974139451176), ('ECG_amplitude_RR_mad_41', 0.05722319121238872), ('EDA_processed_mad_456', 0.043237638008223805), ('ECG_HR_min_div_mad_55', 0.04086105034492251), ('IT_p_Total_mad_317', 0.038767754759935644), ('IT_PSD_mad_247', 0.03813835740667452), ('ECG_RR_window_mad_27', 0.03673768438730162)], 0.6863839285714286)\n"
     ]
    }
   ],
   "source": [
    "# Autograder tests\n",
    "print(f\"Task {task_id} - AG tests\")\n",
    "stu_ans = get_top_features()\n",
    "\n",
    "print(f\"Task {task_id} - your answer:\\n{stu_ans}\")\n",
    "\n",
    "assert (\n",
    "    len(stu_ans) == 2\n",
    "), f\"Task {task_id}: Your answer tuple does not contain the correct number of elements.\"\n",
    "\n",
    "assert isinstance(\n",
    "    stu_ans[0], list\n",
    "), f\"Task {task_id}: The first tuple element should be a list\"\n",
    "\n",
    "assert (\n",
    "    len(stu_ans[0]) == 10\n",
    "), f\"Task {task_id}: The default number of top features is not correct.\"\n",
    "\n",
    "assert isinstance(\n",
    "    stu_ans[1], np.float64\n",
    "), f\"Task {task_id}: get_top_features() second return element should be an np.float64.\"\n",
    "\n",
    "del stu_ans\n",
    "\n",
    "# Some hidden tests"
   ]
  },
  {
   "cell_type": "markdown",
   "metadata": {
    "deletable": false,
    "editable": false,
    "nbgrader": {
     "cell_type": "markdown",
     "checksum": "a70c8c9fddfba76b593c63a57326abc1",
     "grade": false,
     "grade_id": "cell-0562af8e13d94e4e",
     "locked": true,
     "schema_version": 3,
     "solution": false,
     "task": false
    }
   },
   "source": [
    "<a id='t9'></a>\n",
    "## Task 9 - Feature Importance, part 2 (10 Points).\n",
    "\n",
    "#### The value of Feature Importance \n",
    "- This follow-on task will use the same **RandomForestClassifier** model as in your get_top_features() function.\n",
    "- The new model will use a portion of the output returned by the get_top_features() function.\n",
    "- Use the previously defined functions to derive your train and test datasets.\n",
    "- Create a loop that trains your model with an incrementally increasing number of features from the top features list.\n",
    "  - The first pass will include the topmost important feature, the second pass will include the top two most important features and so on until the final pass of all top X features.\n",
    "- Your function should return a list of feature-based test data scores produced by the model.  \n",
    "\n",
    "<a href='#toc'>TOC</a>"
   ]
  },
  {
   "cell_type": "code",
   "execution_count": 53,
   "metadata": {
    "deletable": false,
    "editable": false,
    "nbgrader": {
     "cell_type": "code",
     "checksum": "850f9f742e871852e97e8d004786b50c",
     "grade": true,
     "grade_id": "cell-f85b4f97ca14b2b6",
     "locked": true,
     "points": 0,
     "schema_version": 3,
     "solution": false,
     "task": false
    }
   },
   "outputs": [],
   "source": [
    "# hidden autograder codeblock\n",
    "task_id = \"9\""
   ]
  },
  {
   "cell_type": "code",
   "execution_count": 54,
   "metadata": {},
   "outputs": [
    {
     "name": "stdout",
     "output_type": "stream",
     "text": [
      "test size => 8\n"
     ]
    },
    {
     "data": {
      "text/plain": [
       "list"
      ]
     },
     "execution_count": 54,
     "metadata": {},
     "output_type": "execute_result"
    }
   ],
   "source": [
    "def features(top=10):\n",
    "    X_train, X_test, y_train, y_test = custom_train_test_split(get_sensor_data(), test_size=0.2)\n",
    "    mad_features = [col for col in X_train.columns if base_feature_selector in col]\n",
    "    model = RandomForestClassifier(random_state=42, n_jobs=-1)\n",
    "    model.fit(X_train[mad_features], y_train)\n",
    "\n",
    "    feature_importances = list(zip(X_train[mad_features].columns[:-1], model.feature_importances_))\n",
    "    feature_importances.sort(key=lambda x: x[1], reverse=True)\n",
    "    return (feature_importances[:top])#, test_score)\n",
    "\n",
    "type(features(top=10))"
   ]
  },
  {
   "cell_type": "code",
   "execution_count": 55,
   "metadata": {
    "deletable": false,
    "nbgrader": {
     "cell_type": "code",
     "checksum": "6f8c3672508a8a4855d63f57ea09ef45",
     "grade": false,
     "grade_id": "cell-61533567ca475486",
     "locked": false,
     "schema_version": 3,
     "solution": true,
     "task": false
    }
   },
   "outputs": [
    {
     "name": "stdout",
     "output_type": "stream",
     "text": [
      "test size => 8\n",
      "<class 'list'>\n",
      "test size => 8\n",
      "[0.45200892857142855, 0.4654017857142857, 0.43861607142857145, 0.43861607142857145, 0.46763392857142855, 0.46651785714285715, 0.49330357142857145, 0.6618303571428571, 0.6551339285714286, 0.6796875]\n"
     ]
    }
   ],
   "source": [
    "def score_top_features(top=10):\n",
    "    ll =[0,1,2,3,4,5,6,7,8,9]\n",
    "    nextV= 0\n",
    "    setup =[]\n",
    "    for i in ll:\n",
    "        nextV = i +1\n",
    "        row = []\n",
    "        for j in range(nextV):\n",
    "            row.append(j)\n",
    "        setup.append(row)\n",
    "    scores = []\n",
    "    tf = features()\n",
    "    print(type(tf))\n",
    "    X_train, X_test, y_train, y_test = custom_train_test_split(get_sensor_data(), test_size=0.2)\n",
    "\n",
    "    mad_features = [col for col in X_train.columns if base_feature_selector in col]\n",
    "    for i in range(len(setup)):\n",
    "#         print(\"SETUP\", setup[i]) # a combination of features, as ranked in \n",
    "        testable = []\n",
    "        for j in setup[i]:\n",
    "#             print(tf[j][0])\n",
    "            testable.append(tf[j][0])\n",
    "#         print(testable)\n",
    "        model = RandomForestClassifier(random_state=42, n_jobs=-1)\n",
    "        model.fit(X_train[testable], y_train)\n",
    "        test_score = np.float64(model.score(X_test[testable], y_test))\n",
    "#         pkg = len(testable), test_score\n",
    "        scores.append(test_score)\n",
    "    \n",
    "    return scores\n",
    "print(score_top_features())"
   ]
  },
  {
   "cell_type": "code",
   "execution_count": 56,
   "metadata": {
    "deletable": false,
    "editable": false,
    "nbgrader": {
     "cell_type": "code",
     "checksum": "4faa613987b1025e59e960c6cb1bac74",
     "grade": true,
     "grade_id": "cell-bbade458d0c15e25",
     "locked": true,
     "points": 10,
     "schema_version": 3,
     "solution": false,
     "task": false
    }
   },
   "outputs": [
    {
     "name": "stdout",
     "output_type": "stream",
     "text": [
      "Task 9 - AG tests\n",
      "test size => 8\n",
      "<class 'list'>\n",
      "test size => 8\n",
      "Task 9 - your answer:\n",
      "[0.45200892857142855, 0.4654017857142857, 0.43861607142857145, 0.43861607142857145, 0.46763392857142855, 0.46651785714285715, 0.49330357142857145, 0.6618303571428571, 0.6551339285714286, 0.6796875]\n"
     ]
    }
   ],
   "source": [
    "# Autograder tests\n",
    "print(f\"Task {task_id} - AG tests\")\n",
    "top = 10\n",
    "stu_ans = score_top_features(top)\n",
    "\n",
    "print(f\"Task {task_id} - your answer:\\n{stu_ans}\")\n",
    "\n",
    "assert (\n",
    "    len(stu_ans) == top\n",
    "), f\"Task {task_id}: Your function does not return the correct number of scores.\"\n",
    "\n",
    "assert all(\n",
    "    isinstance(x, np.float64) for x in stu_ans\n",
    "), f\"Task {task_id}: One or more of the returned scores is of an incorrect type.\"\n",
    "\n",
    "\n",
    "del stu_ans"
   ]
  },
  {
   "cell_type": "markdown",
   "metadata": {
    "deletable": false,
    "editable": false,
    "nbgrader": {
     "cell_type": "markdown",
     "checksum": "71dfe7a3b12c5d5bc18546340f41e1fc",
     "grade": false,
     "grade_id": "cell-394cc694e2554086",
     "locked": true,
     "schema_version": 3,
     "solution": false,
     "task": false
    }
   },
   "source": [
    "<a id='scoresplot'></a>\n",
    "## Scores Plot\n",
    "The plot_scores() function accepts top X features argumnet which defaults to a value of 10. Feel free to change the argument to better see how accuracy is affected by the number of top features used to train the model.  \n",
    "\n",
    "<a href='#toc'>TOC</a>"
   ]
  },
  {
   "cell_type": "code",
   "execution_count": 57,
   "metadata": {
    "deletable": false,
    "editable": false,
    "nbgrader": {
     "cell_type": "code",
     "checksum": "6663863a179cacb0a15079b539cb0ccb",
     "grade": false,
     "grade_id": "cell-8fe2a304ac06b8b4",
     "locked": true,
     "schema_version": 3,
     "solution": false,
     "task": false
    }
   },
   "outputs": [],
   "source": [
    "def plot_scores(top=10):\n",
    "    if top > 29:\n",
    "        top = 29\n",
    "\n",
    "    top_x_features, score = get_top_features(top)\n",
    "    scores = score_top_features(top)\n",
    "\n",
    "    importance_scores = [score[1] for score in top_x_features]\n",
    "    x_axis = np.arange(1, len(scores) + 1)\n",
    "\n",
    "    plt.figure(figsize=(8, 6))\n",
    "\n",
    "    plt.xticks(x_axis)\n",
    "    plt.ylim([0, max(score, max(importance_scores)) + 0.05])\n",
    "    plt.xlabel(\"Number of Top 10 Features Used\")\n",
    "    plt.ylabel(\"Score Value\")\n",
    "    plt.grid(alpha=0.25)\n",
    "\n",
    "    plt.plot(x_axis, scores, label=\"Accuracy Score\", c=\"g\", linestyle=\"solid\")\n",
    "\n",
    "    plt.plot(\n",
    "        x_axis,\n",
    "        importance_scores,\n",
    "        label=\"Feature Importance Scores\",\n",
    "        c=\"r\",\n",
    "        linestyle=\"solid\",\n",
    "    )\n",
    "\n",
    "    plt.axhline(\n",
    "        score,\n",
    "        label=f\"All '{base_feature_selector}' features score\",\n",
    "        c=\"b\",\n",
    "        linestyle=\"dashed\",\n",
    "    )\n",
    "\n",
    "    plt.legend()\n",
    "    plt.tight_layout()\n",
    "\n",
    "    return"
   ]
  },
  {
   "cell_type": "code",
   "execution_count": 58,
   "metadata": {},
   "outputs": [
    {
     "name": "stdout",
     "output_type": "stream",
     "text": [
      "test size => 8\n",
      "test size => 8\n",
      "<class 'list'>\n",
      "test size => 8\n"
     ]
    },
    {
     "data": {
      "image/png": "[encoded data removed]",
      "text/plain": [
       "<Figure size 800x600 with 1 Axes>"
      ]
     },
     "metadata": {},
     "output_type": "display_data"
    }
   ],
   "source": [
    "# Plot accuracy vs feature importance\n",
    "# the plot_scores() function accepts an optional top N parameter.\n",
    "# Remember to comment the following function call before submitting the notebook.\n",
    "\n",
    "plot_scores()"
   ]
  },
  {
   "cell_type": "markdown",
   "metadata": {
    "deletable": false,
    "editable": false,
    "nbgrader": {
     "cell_type": "markdown",
     "checksum": "a57645fc43f4090eb24d7c3d431afe9e",
     "grade": false,
     "grade_id": "cell-4e84ab0e7aaf6f51",
     "locked": true,
     "schema_version": 3,
     "solution": false,
     "task": false
    }
   },
   "source": [
    "<a id='t10'></a>\n",
    "## Task 10 - Final project (50 Points).\n",
    "\n",
    "- The final task for this assignment is open-ended with only a few **constraints**. Using any of the Supervised Machine Learning techniques and models presented in this course, produce a model that produces a best-possible ROC-AUC score. Your **Task 10** points will be based solely on the highest ROC-AUC score achieved. The primary constraint for this task is that you will be able to utilize not more than **10** of the 533 available data features in the training and scoring of your model. A quick calculation of the number of available combinations C(n, r) = C(533, 10) = $\\frac{n!}{r!(n-r)!}$ = 4.684e20. That is very large number of possible combinations (the number of permutations is even greater)! Because of the intractability of checking all possible 10-feature combinations, it will be necessary to devise a scheme whereby your algorithm makes a selection of features and scores that selection. Be creative but also efficient in your feature selection process; this may well mean computational efficiency. Attempting to examine too many features at one time can be computationally very expensive! Because multiple feature selection cycles may be necessary, you will also need to develop an efficient method of keeping track of the top model, features, and score.  \n",
    "\n",
    "- Why would we want to limit the number of features? \n",
    "   1. The creator of the project may want to minimize the number of sensors/measurements required to move the project forward.\n",
    "   2. The final product will be used on a smartphone where resource consumption is always a concern.\n",
    "   3. Computational resource availability of the development environment could be constrained due to budget availability.\n",
    "   4. The development environment may be intentionally constrained to mimic the production environment.\n",
    "  \n",
    "  \n",
    "- You will find that even with these limitations, some model choices will still consume significant resources, even to the point of crashing the Python kernel!  \n",
    "\n",
    "- Use your previously defined functions to derive your train and test sets.\n",
    "- If feasible, expand upon your previously created feature selection code.\n",
    "- Use the following parameters when establishing your [roc_auc_score](https://scikit-learn.org/stable/modules/generated/sklearn.metrics.roc_auc_score.html#sklearn.metrics.roc_auc_score) method:\n",
    "    - average=\"macro\"\n",
    "    - multi_class=\"ovr\"\n",
    "- The activity_model() function:\n",
    "  - arguments accepted:: integer: random_state=42\n",
    "  - function return:: tuple: (fit_model, feature_list, roc_auc_score)  \n",
    "  (sklearn.estimator, \\[str, ..., str\\], float)\n",
    "\n",
    "<a href='#toc'>TOC</a>"
   ]
  },
  {
   "cell_type": "code",
   "execution_count": 59,
   "metadata": {
    "deletable": false,
    "editable": false,
    "nbgrader": {
     "cell_type": "code",
     "checksum": "10e9807495e332a7cc98a573fd27cb34",
     "grade": true,
     "grade_id": "cell-25d9f52ee1c53c77",
     "locked": true,
     "points": 0,
     "schema_version": 3,
     "solution": false,
     "task": false
    }
   },
   "outputs": [],
   "source": [
    "# hidden autograder codeblock\n",
    "task_id = \"10\""
   ]
  },
  {
   "cell_type": "code",
   "execution_count": 60,
   "metadata": {},
   "outputs": [],
   "source": [
    "from sklearn.metrics import (\n",
    "    auc,\n",
    "    roc_curve,\n",
    "    confusion_matrix,\n",
    "    PrecisionRecallDisplay,\n",
    "    precision_recall_curve,\n",
    "    plot_precision_recall_curve)"
   ]
  },
  {
   "cell_type": "code",
   "execution_count": 61,
   "metadata": {},
   "outputs": [],
   "source": [
    "df10 = get_sensor_data()"
   ]
  },
  {
   "cell_type": "code",
   "execution_count": 62,
   "metadata": {},
   "outputs": [],
   "source": [
    "cm = df10.corr().values"
   ]
  },
  {
   "cell_type": "code",
   "execution_count": 97,
   "metadata": {},
   "outputs": [
    {
     "data": {
      "text/html": [
       "<div>\n",
       "<style scoped>\n",
       "    .dataframe tbody tr th:only-of-type {\n",
       "        vertical-align: middle;\n",
       "    }\n",
       "\n",
       "    .dataframe tbody tr th {\n",
       "        vertical-align: top;\n",
       "    }\n",
       "\n",
       "    .dataframe thead th {\n",
       "        text-align: right;\n",
       "    }\n",
       "</style>\n",
       "<table border=\"1\" class=\"dataframe\">\n",
       "  <thead>\n",
       "    <tr style=\"text-align: right;\">\n",
       "      <th></th>\n",
       "      <th>Activity_Label</th>\n",
       "      <th>ECG_original_mean_1</th>\n",
       "      <th>ECG_original_std_2</th>\n",
       "      <th>ECG_original_trimmean25_3</th>\n",
       "      <th>ECG_original_median_4</th>\n",
       "      <th>ECG_original_skewness_5</th>\n",
       "      <th>ECG_original_kurtosis_6</th>\n",
       "      <th>ECG_original_max_7</th>\n",
       "      <th>ECG_original_min_8</th>\n",
       "      <th>ECG_original_prctile25_9</th>\n",
       "      <th>...</th>\n",
       "      <th>EDA_Functionals_power_Filt2skewness_524</th>\n",
       "      <th>EDA_Functionals_power_Filt2kurtosis_525</th>\n",
       "      <th>EDA_Functionals_power_Filt2max_526</th>\n",
       "      <th>EDA_Functionals_power_Filt2min_527</th>\n",
       "      <th>EDA_Functionals_power_Filt2prctile25_528</th>\n",
       "      <th>EDA_Functionals_power_Filt2prctile75_529</th>\n",
       "      <th>EDA_Functionals_power_Filt2geomean(abs)_530</th>\n",
       "      <th>EDA_Functionals_power_Filt2harmmean_531</th>\n",
       "      <th>EDA_Functionals_power_Filt2mad_532</th>\n",
       "      <th>EDA_Functionals_power_Filt2baseline_533</th>\n",
       "    </tr>\n",
       "  </thead>\n",
       "  <tbody>\n",
       "    <tr>\n",
       "      <th>Activity_Label</th>\n",
       "      <td>1.000000</td>\n",
       "      <td>0.249629</td>\n",
       "      <td>0.450912</td>\n",
       "      <td>0.256437</td>\n",
       "      <td>0.263114</td>\n",
       "      <td>-0.280015</td>\n",
       "      <td>-0.240930</td>\n",
       "      <td>0.498960</td>\n",
       "      <td>-0.498530</td>\n",
       "      <td>-0.153692</td>\n",
       "      <td>...</td>\n",
       "      <td>0.007962</td>\n",
       "      <td>0.008005</td>\n",
       "      <td>0.235122</td>\n",
       "      <td>0.166713</td>\n",
       "      <td>0.239280</td>\n",
       "      <td>0.237982</td>\n",
       "      <td>0.247874</td>\n",
       "      <td>0.241178</td>\n",
       "      <td>0.235260</td>\n",
       "      <td>0.018079</td>\n",
       "    </tr>\n",
       "    <tr>\n",
       "      <th>ECG_original_mean_1</th>\n",
       "      <td>0.249629</td>\n",
       "      <td>1.000000</td>\n",
       "      <td>0.261175</td>\n",
       "      <td>0.991501</td>\n",
       "      <td>0.913595</td>\n",
       "      <td>-0.254409</td>\n",
       "      <td>-0.012629</td>\n",
       "      <td>0.320761</td>\n",
       "      <td>-0.117415</td>\n",
       "      <td>0.462106</td>\n",
       "      <td>...</td>\n",
       "      <td>0.025834</td>\n",
       "      <td>0.026071</td>\n",
       "      <td>0.047177</td>\n",
       "      <td>0.097682</td>\n",
       "      <td>0.048841</td>\n",
       "      <td>0.048048</td>\n",
       "      <td>0.051676</td>\n",
       "      <td>0.095557</td>\n",
       "      <td>0.047194</td>\n",
       "      <td>-0.057268</td>\n",
       "    </tr>\n",
       "    <tr>\n",
       "      <th>ECG_original_std_2</th>\n",
       "      <td>0.450912</td>\n",
       "      <td>0.261175</td>\n",
       "      <td>1.000000</td>\n",
       "      <td>0.268125</td>\n",
       "      <td>0.290984</td>\n",
       "      <td>-0.276402</td>\n",
       "      <td>-0.246734</td>\n",
       "      <td>0.836362</td>\n",
       "      <td>-0.833158</td>\n",
       "      <td>-0.648999</td>\n",
       "      <td>...</td>\n",
       "      <td>0.067749</td>\n",
       "      <td>0.067641</td>\n",
       "      <td>0.173077</td>\n",
       "      <td>0.170087</td>\n",
       "      <td>0.177399</td>\n",
       "      <td>0.175512</td>\n",
       "      <td>0.185251</td>\n",
       "      <td>0.201659</td>\n",
       "      <td>0.173205</td>\n",
       "      <td>0.026943</td>\n",
       "    </tr>\n",
       "    <tr>\n",
       "      <th>ECG_original_trimmean25_3</th>\n",
       "      <td>0.256437</td>\n",
       "      <td>0.991501</td>\n",
       "      <td>0.268125</td>\n",
       "      <td>1.000000</td>\n",
       "      <td>0.943688</td>\n",
       "      <td>-0.295331</td>\n",
       "      <td>-0.016901</td>\n",
       "      <td>0.298215</td>\n",
       "      <td>-0.143808</td>\n",
       "      <td>0.460076</td>\n",
       "      <td>...</td>\n",
       "      <td>0.023581</td>\n",
       "      <td>0.023828</td>\n",
       "      <td>0.044328</td>\n",
       "      <td>0.098102</td>\n",
       "      <td>0.045834</td>\n",
       "      <td>0.045139</td>\n",
       "      <td>0.048878</td>\n",
       "      <td>0.094068</td>\n",
       "      <td>0.044350</td>\n",
       "      <td>-0.057637</td>\n",
       "    </tr>\n",
       "    <tr>\n",
       "      <th>ECG_original_median_4</th>\n",
       "      <td>0.263114</td>\n",
       "      <td>0.913595</td>\n",
       "      <td>0.290984</td>\n",
       "      <td>0.943688</td>\n",
       "      <td>1.000000</td>\n",
       "      <td>-0.284797</td>\n",
       "      <td>-0.026138</td>\n",
       "      <td>0.272096</td>\n",
       "      <td>-0.161065</td>\n",
       "      <td>0.340827</td>\n",
       "      <td>...</td>\n",
       "      <td>0.020973</td>\n",
       "      <td>0.021244</td>\n",
       "      <td>0.035968</td>\n",
       "      <td>0.096911</td>\n",
       "      <td>0.037082</td>\n",
       "      <td>0.036597</td>\n",
       "      <td>0.040038</td>\n",
       "      <td>0.078826</td>\n",
       "      <td>0.036008</td>\n",
       "      <td>-0.055416</td>\n",
       "    </tr>\n",
       "    <tr>\n",
       "      <th>...</th>\n",
       "      <td>...</td>\n",
       "      <td>...</td>\n",
       "      <td>...</td>\n",
       "      <td>...</td>\n",
       "      <td>...</td>\n",
       "      <td>...</td>\n",
       "      <td>...</td>\n",
       "      <td>...</td>\n",
       "      <td>...</td>\n",
       "      <td>...</td>\n",
       "      <td>...</td>\n",
       "      <td>...</td>\n",
       "      <td>...</td>\n",
       "      <td>...</td>\n",
       "      <td>...</td>\n",
       "      <td>...</td>\n",
       "      <td>...</td>\n",
       "      <td>...</td>\n",
       "      <td>...</td>\n",
       "      <td>...</td>\n",
       "      <td>...</td>\n",
       "    </tr>\n",
       "    <tr>\n",
       "      <th>EDA_Functionals_power_Filt2prctile75_529</th>\n",
       "      <td>0.237982</td>\n",
       "      <td>0.048048</td>\n",
       "      <td>0.175512</td>\n",
       "      <td>0.045139</td>\n",
       "      <td>0.036597</td>\n",
       "      <td>-0.049815</td>\n",
       "      <td>0.022662</td>\n",
       "      <td>0.283706</td>\n",
       "      <td>-0.243721</td>\n",
       "      <td>-0.072115</td>\n",
       "      <td>...</td>\n",
       "      <td>0.101179</td>\n",
       "      <td>0.100630</td>\n",
       "      <td>0.999745</td>\n",
       "      <td>0.286805</td>\n",
       "      <td>0.999861</td>\n",
       "      <td>1.000000</td>\n",
       "      <td>0.998347</td>\n",
       "      <td>0.601147</td>\n",
       "      <td>0.999762</td>\n",
       "      <td>0.865911</td>\n",
       "    </tr>\n",
       "    <tr>\n",
       "      <th>EDA_Functionals_power_Filt2geomean(abs)_530</th>\n",
       "      <td>0.247874</td>\n",
       "      <td>0.051676</td>\n",
       "      <td>0.185251</td>\n",
       "      <td>0.048878</td>\n",
       "      <td>0.040038</td>\n",
       "      <td>-0.053159</td>\n",
       "      <td>0.022707</td>\n",
       "      <td>0.295281</td>\n",
       "      <td>-0.255385</td>\n",
       "      <td>-0.076244</td>\n",
       "      <td>...</td>\n",
       "      <td>0.104533</td>\n",
       "      <td>0.103982</td>\n",
       "      <td>0.997416</td>\n",
       "      <td>0.331640</td>\n",
       "      <td>0.998870</td>\n",
       "      <td>0.998347</td>\n",
       "      <td>1.000000</td>\n",
       "      <td>0.643807</td>\n",
       "      <td>0.997477</td>\n",
       "      <td>0.857897</td>\n",
       "    </tr>\n",
       "    <tr>\n",
       "      <th>EDA_Functionals_power_Filt2harmmean_531</th>\n",
       "      <td>0.241178</td>\n",
       "      <td>0.095557</td>\n",
       "      <td>0.201659</td>\n",
       "      <td>0.094068</td>\n",
       "      <td>0.078826</td>\n",
       "      <td>-0.053732</td>\n",
       "      <td>0.046220</td>\n",
       "      <td>0.297808</td>\n",
       "      <td>-0.259766</td>\n",
       "      <td>-0.064164</td>\n",
       "      <td>...</td>\n",
       "      <td>0.108967</td>\n",
       "      <td>0.108625</td>\n",
       "      <td>0.592879</td>\n",
       "      <td>0.836206</td>\n",
       "      <td>0.610565</td>\n",
       "      <td>0.601147</td>\n",
       "      <td>0.643807</td>\n",
       "      <td>1.000000</td>\n",
       "      <td>0.593377</td>\n",
       "      <td>0.448489</td>\n",
       "    </tr>\n",
       "    <tr>\n",
       "      <th>EDA_Functionals_power_Filt2mad_532</th>\n",
       "      <td>0.235260</td>\n",
       "      <td>0.047194</td>\n",
       "      <td>0.173205</td>\n",
       "      <td>0.044350</td>\n",
       "      <td>0.036008</td>\n",
       "      <td>-0.048886</td>\n",
       "      <td>0.022925</td>\n",
       "      <td>0.280791</td>\n",
       "      <td>-0.241030</td>\n",
       "      <td>-0.071053</td>\n",
       "      <td>...</td>\n",
       "      <td>0.099539</td>\n",
       "      <td>0.098992</td>\n",
       "      <td>0.999999</td>\n",
       "      <td>0.279347</td>\n",
       "      <td>0.999537</td>\n",
       "      <td>0.999762</td>\n",
       "      <td>0.997477</td>\n",
       "      <td>0.593377</td>\n",
       "      <td>1.000000</td>\n",
       "      <td>0.867399</td>\n",
       "    </tr>\n",
       "    <tr>\n",
       "      <th>EDA_Functionals_power_Filt2baseline_533</th>\n",
       "      <td>0.018079</td>\n",
       "      <td>-0.057268</td>\n",
       "      <td>0.026943</td>\n",
       "      <td>-0.057637</td>\n",
       "      <td>-0.055416</td>\n",
       "      <td>0.015305</td>\n",
       "      <td>0.087013</td>\n",
       "      <td>0.126120</td>\n",
       "      <td>-0.097897</td>\n",
       "      <td>-0.036398</td>\n",
       "      <td>...</td>\n",
       "      <td>0.091758</td>\n",
       "      <td>0.091231</td>\n",
       "      <td>0.867481</td>\n",
       "      <td>0.177402</td>\n",
       "      <td>0.865350</td>\n",
       "      <td>0.865911</td>\n",
       "      <td>0.857897</td>\n",
       "      <td>0.448489</td>\n",
       "      <td>0.867399</td>\n",
       "      <td>1.000000</td>\n",
       "    </tr>\n",
       "  </tbody>\n",
       "</table>\n",
       "<p>534 rows × 534 columns</p>\n",
       "</div>"
      ],
      "text/plain": [
       "                                             Activity_Label  \\\n",
       "Activity_Label                                     1.000000   \n",
       "ECG_original_mean_1                                0.249629   \n",
       "ECG_original_std_2                                 0.450912   \n",
       "ECG_original_trimmean25_3                          0.256437   \n",
       "ECG_original_median_4                              0.263114   \n",
       "...                                                     ...   \n",
       "EDA_Functionals_power_Filt2prctile75_529           0.237982   \n",
       "EDA_Functionals_power_Filt2geomean(abs)_530        0.247874   \n",
       "EDA_Functionals_power_Filt2harmmean_531            0.241178   \n",
       "EDA_Functionals_power_Filt2mad_532                 0.235260   \n",
       "EDA_Functionals_power_Filt2baseline_533            0.018079   \n",
       "\n",
       "                                             ECG_original_mean_1  \\\n",
       "Activity_Label                                          0.249629   \n",
       "ECG_original_mean_1                                     1.000000   \n",
       "ECG_original_std_2                                      0.261175   \n",
       "ECG_original_trimmean25_3                               0.991501   \n",
       "ECG_original_median_4                                   0.913595   \n",
       "...                                                          ...   \n",
       "EDA_Functionals_power_Filt2prctile75_529                0.048048   \n",
       "EDA_Functionals_power_Filt2geomean(abs)_530             0.051676   \n",
       "EDA_Functionals_power_Filt2harmmean_531                 0.095557   \n",
       "EDA_Functionals_power_Filt2mad_532                      0.047194   \n",
       "EDA_Functionals_power_Filt2baseline_533                -0.057268   \n",
       "\n",
       "                                             ECG_original_std_2  \\\n",
       "Activity_Label                                         0.450912   \n",
       "ECG_original_mean_1                                    0.261175   \n",
       "ECG_original_std_2                                     1.000000   \n",
       "ECG_original_trimmean25_3                              0.268125   \n",
       "ECG_original_median_4                                  0.290984   \n",
       "...                                                         ...   \n",
       "EDA_Functionals_power_Filt2prctile75_529               0.175512   \n",
       "EDA_Functionals_power_Filt2geomean(abs)_530            0.185251   \n",
       "EDA_Functionals_power_Filt2harmmean_531                0.201659   \n",
       "EDA_Functionals_power_Filt2mad_532                     0.173205   \n",
       "EDA_Functionals_power_Filt2baseline_533                0.026943   \n",
       "\n",
       "                                             ECG_original_trimmean25_3  \\\n",
       "Activity_Label                                                0.256437   \n",
       "ECG_original_mean_1                                           0.991501   \n",
       "ECG_original_std_2                                            0.268125   \n",
       "ECG_original_trimmean25_3                                     1.000000   \n",
       "ECG_original_median_4                                         0.943688   \n",
       "...                                                                ...   \n",
       "EDA_Functionals_power_Filt2prctile75_529                      0.045139   \n",
       "EDA_Functionals_power_Filt2geomean(abs)_530                   0.048878   \n",
       "EDA_Functionals_power_Filt2harmmean_531                       0.094068   \n",
       "EDA_Functionals_power_Filt2mad_532                            0.044350   \n",
       "EDA_Functionals_power_Filt2baseline_533                      -0.057637   \n",
       "\n",
       "                                             ECG_original_median_4  \\\n",
       "Activity_Label                                            0.263114   \n",
       "ECG_original_mean_1                                       0.913595   \n",
       "ECG_original_std_2                                        0.290984   \n",
       "ECG_original_trimmean25_3                                 0.943688   \n",
       "ECG_original_median_4                                     1.000000   \n",
       "...                                                            ...   \n",
       "EDA_Functionals_power_Filt2prctile75_529                  0.036597   \n",
       "EDA_Functionals_power_Filt2geomean(abs)_530               0.040038   \n",
       "EDA_Functionals_power_Filt2harmmean_531                   0.078826   \n",
       "EDA_Functionals_power_Filt2mad_532                        0.036008   \n",
       "EDA_Functionals_power_Filt2baseline_533                  -0.055416   \n",
       "\n",
       "                                             ECG_original_skewness_5  \\\n",
       "Activity_Label                                             -0.280015   \n",
       "ECG_original_mean_1                                        -0.254409   \n",
       "ECG_original_std_2                                         -0.276402   \n",
       "ECG_original_trimmean25_3                                  -0.295331   \n",
       "ECG_original_median_4                                      -0.284797   \n",
       "...                                                              ...   \n",
       "EDA_Functionals_power_Filt2prctile75_529                   -0.049815   \n",
       "EDA_Functionals_power_Filt2geomean(abs)_530                -0.053159   \n",
       "EDA_Functionals_power_Filt2harmmean_531                    -0.053732   \n",
       "EDA_Functionals_power_Filt2mad_532                         -0.048886   \n",
       "EDA_Functionals_power_Filt2baseline_533                     0.015305   \n",
       "\n",
       "                                             ECG_original_kurtosis_6  \\\n",
       "Activity_Label                                             -0.240930   \n",
       "ECG_original_mean_1                                        -0.012629   \n",
       "ECG_original_std_2                                         -0.246734   \n",
       "ECG_original_trimmean25_3                                  -0.016901   \n",
       "ECG_original_median_4                                      -0.026138   \n",
       "...                                                              ...   \n",
       "EDA_Functionals_power_Filt2prctile75_529                    0.022662   \n",
       "EDA_Functionals_power_Filt2geomean(abs)_530                 0.022707   \n",
       "EDA_Functionals_power_Filt2harmmean_531                     0.046220   \n",
       "EDA_Functionals_power_Filt2mad_532                          0.022925   \n",
       "EDA_Functionals_power_Filt2baseline_533                     0.087013   \n",
       "\n",
       "                                             ECG_original_max_7  \\\n",
       "Activity_Label                                         0.498960   \n",
       "ECG_original_mean_1                                    0.320761   \n",
       "ECG_original_std_2                                     0.836362   \n",
       "ECG_original_trimmean25_3                              0.298215   \n",
       "ECG_original_median_4                                  0.272096   \n",
       "...                                                         ...   \n",
       "EDA_Functionals_power_Filt2prctile75_529               0.283706   \n",
       "EDA_Functionals_power_Filt2geomean(abs)_530            0.295281   \n",
       "EDA_Functionals_power_Filt2harmmean_531                0.297808   \n",
       "EDA_Functionals_power_Filt2mad_532                     0.280791   \n",
       "EDA_Functionals_power_Filt2baseline_533                0.126120   \n",
       "\n",
       "                                             ECG_original_min_8  \\\n",
       "Activity_Label                                        -0.498530   \n",
       "ECG_original_mean_1                                   -0.117415   \n",
       "ECG_original_std_2                                    -0.833158   \n",
       "ECG_original_trimmean25_3                             -0.143808   \n",
       "ECG_original_median_4                                 -0.161065   \n",
       "...                                                         ...   \n",
       "EDA_Functionals_power_Filt2prctile75_529              -0.243721   \n",
       "EDA_Functionals_power_Filt2geomean(abs)_530           -0.255385   \n",
       "EDA_Functionals_power_Filt2harmmean_531               -0.259766   \n",
       "EDA_Functionals_power_Filt2mad_532                    -0.241030   \n",
       "EDA_Functionals_power_Filt2baseline_533               -0.097897   \n",
       "\n",
       "                                             ECG_original_prctile25_9  ...  \\\n",
       "Activity_Label                                              -0.153692  ...   \n",
       "ECG_original_mean_1                                          0.462106  ...   \n",
       "ECG_original_std_2                                          -0.648999  ...   \n",
       "ECG_original_trimmean25_3                                    0.460076  ...   \n",
       "ECG_original_median_4                                        0.340827  ...   \n",
       "...                                                               ...  ...   \n",
       "EDA_Functionals_power_Filt2prctile75_529                    -0.072115  ...   \n",
       "EDA_Functionals_power_Filt2geomean(abs)_530                 -0.076244  ...   \n",
       "EDA_Functionals_power_Filt2harmmean_531                     -0.064164  ...   \n",
       "EDA_Functionals_power_Filt2mad_532                          -0.071053  ...   \n",
       "EDA_Functionals_power_Filt2baseline_533                     -0.036398  ...   \n",
       "\n",
       "                                             EDA_Functionals_power_Filt2skewness_524  \\\n",
       "Activity_Label                                                              0.007962   \n",
       "ECG_original_mean_1                                                         0.025834   \n",
       "ECG_original_std_2                                                          0.067749   \n",
       "ECG_original_trimmean25_3                                                   0.023581   \n",
       "ECG_original_median_4                                                       0.020973   \n",
       "...                                                                              ...   \n",
       "EDA_Functionals_power_Filt2prctile75_529                                    0.101179   \n",
       "EDA_Functionals_power_Filt2geomean(abs)_530                                 0.104533   \n",
       "EDA_Functionals_power_Filt2harmmean_531                                     0.108967   \n",
       "EDA_Functionals_power_Filt2mad_532                                          0.099539   \n",
       "EDA_Functionals_power_Filt2baseline_533                                     0.091758   \n",
       "\n",
       "                                             EDA_Functionals_power_Filt2kurtosis_525  \\\n",
       "Activity_Label                                                              0.008005   \n",
       "ECG_original_mean_1                                                         0.026071   \n",
       "ECG_original_std_2                                                          0.067641   \n",
       "ECG_original_trimmean25_3                                                   0.023828   \n",
       "ECG_original_median_4                                                       0.021244   \n",
       "...                                                                              ...   \n",
       "EDA_Functionals_power_Filt2prctile75_529                                    0.100630   \n",
       "EDA_Functionals_power_Filt2geomean(abs)_530                                 0.103982   \n",
       "EDA_Functionals_power_Filt2harmmean_531                                     0.108625   \n",
       "EDA_Functionals_power_Filt2mad_532                                          0.098992   \n",
       "EDA_Functionals_power_Filt2baseline_533                                     0.091231   \n",
       "\n",
       "                                             EDA_Functionals_power_Filt2max_526  \\\n",
       "Activity_Label                                                         0.235122   \n",
       "ECG_original_mean_1                                                    0.047177   \n",
       "ECG_original_std_2                                                     0.173077   \n",
       "ECG_original_trimmean25_3                                              0.044328   \n",
       "ECG_original_median_4                                                  0.035968   \n",
       "...                                                                         ...   \n",
       "EDA_Functionals_power_Filt2prctile75_529                               0.999745   \n",
       "EDA_Functionals_power_Filt2geomean(abs)_530                            0.997416   \n",
       "EDA_Functionals_power_Filt2harmmean_531                                0.592879   \n",
       "EDA_Functionals_power_Filt2mad_532                                     0.999999   \n",
       "EDA_Functionals_power_Filt2baseline_533                                0.867481   \n",
       "\n",
       "                                             EDA_Functionals_power_Filt2min_527  \\\n",
       "Activity_Label                                                         0.166713   \n",
       "ECG_original_mean_1                                                    0.097682   \n",
       "ECG_original_std_2                                                     0.170087   \n",
       "ECG_original_trimmean25_3                                              0.098102   \n",
       "ECG_original_median_4                                                  0.096911   \n",
       "...                                                                         ...   \n",
       "EDA_Functionals_power_Filt2prctile75_529                               0.286805   \n",
       "EDA_Functionals_power_Filt2geomean(abs)_530                            0.331640   \n",
       "EDA_Functionals_power_Filt2harmmean_531                                0.836206   \n",
       "EDA_Functionals_power_Filt2mad_532                                     0.279347   \n",
       "EDA_Functionals_power_Filt2baseline_533                                0.177402   \n",
       "\n",
       "                                             EDA_Functionals_power_Filt2prctile25_528  \\\n",
       "Activity_Label                                                               0.239280   \n",
       "ECG_original_mean_1                                                          0.048841   \n",
       "ECG_original_std_2                                                           0.177399   \n",
       "ECG_original_trimmean25_3                                                    0.045834   \n",
       "ECG_original_median_4                                                        0.037082   \n",
       "...                                                                               ...   \n",
       "EDA_Functionals_power_Filt2prctile75_529                                     0.999861   \n",
       "EDA_Functionals_power_Filt2geomean(abs)_530                                  0.998870   \n",
       "EDA_Functionals_power_Filt2harmmean_531                                      0.610565   \n",
       "EDA_Functionals_power_Filt2mad_532                                           0.999537   \n",
       "EDA_Functionals_power_Filt2baseline_533                                      0.865350   \n",
       "\n",
       "                                             EDA_Functionals_power_Filt2prctile75_529  \\\n",
       "Activity_Label                                                               0.237982   \n",
       "ECG_original_mean_1                                                          0.048048   \n",
       "ECG_original_std_2                                                           0.175512   \n",
       "ECG_original_trimmean25_3                                                    0.045139   \n",
       "ECG_original_median_4                                                        0.036597   \n",
       "...                                                                               ...   \n",
       "EDA_Functionals_power_Filt2prctile75_529                                     1.000000   \n",
       "EDA_Functionals_power_Filt2geomean(abs)_530                                  0.998347   \n",
       "EDA_Functionals_power_Filt2harmmean_531                                      0.601147   \n",
       "EDA_Functionals_power_Filt2mad_532                                           0.999762   \n",
       "EDA_Functionals_power_Filt2baseline_533                                      0.865911   \n",
       "\n",
       "                                             EDA_Functionals_power_Filt2geomean(abs)_530  \\\n",
       "Activity_Label                                                                  0.247874   \n",
       "ECG_original_mean_1                                                             0.051676   \n",
       "ECG_original_std_2                                                              0.185251   \n",
       "ECG_original_trimmean25_3                                                       0.048878   \n",
       "ECG_original_median_4                                                           0.040038   \n",
       "...                                                                                  ...   \n",
       "EDA_Functionals_power_Filt2prctile75_529                                        0.998347   \n",
       "EDA_Functionals_power_Filt2geomean(abs)_530                                     1.000000   \n",
       "EDA_Functionals_power_Filt2harmmean_531                                         0.643807   \n",
       "EDA_Functionals_power_Filt2mad_532                                              0.997477   \n",
       "EDA_Functionals_power_Filt2baseline_533                                         0.857897   \n",
       "\n",
       "                                             EDA_Functionals_power_Filt2harmmean_531  \\\n",
       "Activity_Label                                                              0.241178   \n",
       "ECG_original_mean_1                                                         0.095557   \n",
       "ECG_original_std_2                                                          0.201659   \n",
       "ECG_original_trimmean25_3                                                   0.094068   \n",
       "ECG_original_median_4                                                       0.078826   \n",
       "...                                                                              ...   \n",
       "EDA_Functionals_power_Filt2prctile75_529                                    0.601147   \n",
       "EDA_Functionals_power_Filt2geomean(abs)_530                                 0.643807   \n",
       "EDA_Functionals_power_Filt2harmmean_531                                     1.000000   \n",
       "EDA_Functionals_power_Filt2mad_532                                          0.593377   \n",
       "EDA_Functionals_power_Filt2baseline_533                                     0.448489   \n",
       "\n",
       "                                             EDA_Functionals_power_Filt2mad_532  \\\n",
       "Activity_Label                                                         0.235260   \n",
       "ECG_original_mean_1                                                    0.047194   \n",
       "ECG_original_std_2                                                     0.173205   \n",
       "ECG_original_trimmean25_3                                              0.044350   \n",
       "ECG_original_median_4                                                  0.036008   \n",
       "...                                                                         ...   \n",
       "EDA_Functionals_power_Filt2prctile75_529                               0.999762   \n",
       "EDA_Functionals_power_Filt2geomean(abs)_530                            0.997477   \n",
       "EDA_Functionals_power_Filt2harmmean_531                                0.593377   \n",
       "EDA_Functionals_power_Filt2mad_532                                     1.000000   \n",
       "EDA_Functionals_power_Filt2baseline_533                                0.867399   \n",
       "\n",
       "                                             EDA_Functionals_power_Filt2baseline_533  \n",
       "Activity_Label                                                              0.018079  \n",
       "ECG_original_mean_1                                                        -0.057268  \n",
       "ECG_original_std_2                                                          0.026943  \n",
       "ECG_original_trimmean25_3                                                  -0.057637  \n",
       "ECG_original_median_4                                                      -0.055416  \n",
       "...                                                                              ...  \n",
       "EDA_Functionals_power_Filt2prctile75_529                                    0.865911  \n",
       "EDA_Functionals_power_Filt2geomean(abs)_530                                 0.857897  \n",
       "EDA_Functionals_power_Filt2harmmean_531                                     0.448489  \n",
       "EDA_Functionals_power_Filt2mad_532                                          0.867399  \n",
       "EDA_Functionals_power_Filt2baseline_533                                     1.000000  \n",
       "\n",
       "[534 rows x 534 columns]"
      ]
     },
     "execution_count": 97,
     "metadata": {},
     "output_type": "execute_result"
    }
   ],
   "source": [
    "df10.corr()"
   ]
  },
  {
   "cell_type": "code",
   "execution_count": 98,
   "metadata": {},
   "outputs": [
    {
     "data": {
      "text/plain": [
       "array([[ 1.    ,  0.2496,  0.4509, ...,  0.2412,  0.2353,  0.0181],\n",
       "       [ 0.2496,  1.    ,  0.2612, ...,  0.0956,  0.0472, -0.0573],\n",
       "       [ 0.4509,  0.2612,  1.    , ...,  0.2017,  0.1732,  0.0269],\n",
       "       ...,\n",
       "       [ 0.2412,  0.0956,  0.2017, ...,  1.    ,  0.5934,  0.4485],\n",
       "       [ 0.2353,  0.0472,  0.1732, ...,  0.5934,  1.    ,  0.8674],\n",
       "       [ 0.0181, -0.0573,  0.0269, ...,  0.4485,  0.8674,  1.    ]])"
      ]
     },
     "execution_count": 98,
     "metadata": {},
     "output_type": "execute_result"
    }
   ],
   "source": [
    "cm"
   ]
  },
  {
   "cell_type": "code",
   "execution_count": 100,
   "metadata": {},
   "outputs": [],
   "source": [
    "#get a df to correlat to\n",
    "dfTarget = df10['Activity_Label']\n",
    "compared = pd.DataFrame([dfTarget])\n",
    "# type(compared)\n",
    "# compared.corrwith(df10, axis=0)"
   ]
  },
  {
   "cell_type": "code",
   "execution_count": 99,
   "metadata": {},
   "outputs": [
    {
     "name": "stdout",
     "output_type": "stream",
     "text": [
      "IT_HF_mean_291                  IT_p_Total_min_312                0.899960\n",
      "IT_p_Total_min_312              IT_HF_mean_291                    0.899960\n",
      "EDA_processed_trimmean25_342    EDA_processed_median_343          0.899883\n",
      "EDA_processed_median_343        EDA_processed_trimmean25_342      0.899883\n",
      "ECG_RR_window_min_22            ECG_RR_window_harmmean_26         0.899827\n",
      "                                                                    ...   \n",
      "EDA_Original_min_437            IT_Original_std_176               0.141394\n",
      "IT_Original_harmmean_186        EDA_processed_geomean(abs)_454    0.141393\n",
      "EDA_processed_geomean(abs)_454  IT_Original_harmmean_186          0.141393\n",
      "ECG_hrv_prctile75_76            IT_BRV_min_228                    0.141389\n",
      "IT_BRV_min_228                  ECG_hrv_prctile75_76              0.141389\n",
      "Length: 50000, dtype: float64\n"
     ]
    }
   ],
   "source": [
    "corr_matrix = df10.corr()\n",
    "corr_matrix = corr_matrix.where(~(corr_matrix >= .9)).stack().nlargest(50000)\n",
    "print(corr_matrix)"
   ]
  },
  {
   "cell_type": "code",
   "execution_count": 67,
   "metadata": {},
   "outputs": [],
   "source": [
    "# limit = list(range(df10.shape[0]))"
   ]
  },
  {
   "cell_type": "code",
   "execution_count": 68,
   "metadata": {},
   "outputs": [],
   "source": [
    "collection = []\n",
    "for index, value in corr_matrix.iteritems():\n",
    "#     print( index[0], index[1], value)\n",
    "    endDict = {}\n",
    "    factor = \" \"\n",
    "    coef = 0.0\n",
    "    for i in range(len(index)):\n",
    "        if index[i] == 'Activity_Label':\n",
    "#             print( index[0], index[1], value)\n",
    "            if index[0] != 'Activity_Label':\n",
    "                endDict = {\"factor\":index[0], \"coef\":value}\n",
    "                collection.append(endDict)\n",
    "\n",
    "            if index[1] != 'Activity_Label':\n",
    "                endDict = {\"factor\":index[1], \"coef\":value}\n",
    "                collection.append(endDict)\n",
    "dfFinal = pd.DataFrame(collection)"
   ]
  },
  {
   "cell_type": "code",
   "execution_count": 69,
   "metadata": {},
   "outputs": [],
   "source": [
    "dfFinal.drop_duplicates(inplace=True)"
   ]
  },
  {
   "cell_type": "code",
   "execution_count": 70,
   "metadata": {},
   "outputs": [],
   "source": [
    "from sklearn.metrics import roc_auc_score"
   ]
  },
  {
   "cell_type": "code",
   "execution_count": 71,
   "metadata": {},
   "outputs": [],
   "source": [
    "top10 = list(dfFinal.iloc[:10]['factor'])"
   ]
  },
  {
   "cell_type": "code",
   "execution_count": 72,
   "metadata": {},
   "outputs": [],
   "source": [
    "top10_2nd = list(dfFinal.iloc[10:20]['factor'])"
   ]
  },
  {
   "cell_type": "code",
   "execution_count": 73,
   "metadata": {},
   "outputs": [],
   "source": [
    "top10_3rd = list(dfFinal.iloc[20:30]['factor'])"
   ]
  },
  {
   "cell_type": "code",
   "execution_count": 74,
   "metadata": {},
   "outputs": [],
   "source": [
    "top10_4th = list(dfFinal.iloc[30:40]['factor'])"
   ]
  },
  {
   "cell_type": "code",
   "execution_count": 75,
   "metadata": {},
   "outputs": [],
   "source": [
    "top10_5th = list(dfFinal.iloc[40:50]['factor'])"
   ]
  },
  {
   "cell_type": "code",
   "execution_count": 76,
   "metadata": {},
   "outputs": [],
   "source": [
    "top10_6th = list(dfFinal.iloc[50:60]['factor'])"
   ]
  },
  {
   "cell_type": "code",
   "execution_count": 77,
   "metadata": {},
   "outputs": [],
   "source": [
    "top10_7th = list(dfFinal.iloc[60:70]['factor'])"
   ]
  },
  {
   "cell_type": "code",
   "execution_count": 78,
   "metadata": {},
   "outputs": [],
   "source": [
    "top10_8th = list(dfFinal.iloc[70:80]['factor'])"
   ]
  },
  {
   "cell_type": "code",
   "execution_count": 79,
   "metadata": {},
   "outputs": [],
   "source": [
    "top10_9th = list(dfFinal.iloc[80:90]['factor'])"
   ]
  },
  {
   "cell_type": "code",
   "execution_count": 80,
   "metadata": {},
   "outputs": [],
   "source": [
    "top10_10th = list(dfFinal.iloc[90:100]['factor'])"
   ]
  },
  {
   "cell_type": "code",
   "execution_count": 81,
   "metadata": {},
   "outputs": [],
   "source": [
    "top10_11th = list(dfFinal.iloc[100:110]['factor'])"
   ]
  },
  {
   "cell_type": "code",
   "execution_count": 82,
   "metadata": {},
   "outputs": [],
   "source": [
    "top10_12th = list(dfFinal.iloc[110:120]['factor'])"
   ]
  },
  {
   "cell_type": "code",
   "execution_count": 83,
   "metadata": {},
   "outputs": [],
   "source": [
    "top10_13th = list(dfFinal.iloc[120:130]['factor'])"
   ]
  },
  {
   "cell_type": "code",
   "execution_count": 84,
   "metadata": {},
   "outputs": [],
   "source": [
    "top10_14th = list(dfFinal.iloc[130:140]['factor'])"
   ]
  },
  {
   "cell_type": "code",
   "execution_count": 85,
   "metadata": {},
   "outputs": [],
   "source": [
    "top10_15th = list(dfFinal.iloc[140:150]['factor'])"
   ]
  },
  {
   "cell_type": "code",
   "execution_count": 86,
   "metadata": {},
   "outputs": [],
   "source": [
    "top10_16th = list(dfFinal.iloc[150:160]['factor'])"
   ]
  },
  {
   "cell_type": "code",
   "execution_count": 87,
   "metadata": {},
   "outputs": [],
   "source": [
    "top10_22nd = list(dfFinal.iloc[220:230]['factor'])"
   ]
  },
  {
   "cell_type": "code",
   "execution_count": 88,
   "metadata": {},
   "outputs": [],
   "source": [
    "# The activity_model() function:\n",
    "\n",
    "# arguments accepted:: integer: random_state=42\n",
    "# function return:: tuple: (fit_model, feature_list, roc_auc_score)\n",
    "# (sklearn.estimator, [str, ..., str], float)"
   ]
  },
  {
   "cell_type": "code",
   "execution_count": 89,
   "metadata": {
    "deletable": false,
    "nbgrader": {
     "cell_type": "code",
     "checksum": "855f19f78eae407af50d3b325c0d01ed",
     "grade": false,
     "grade_id": "cell-aa54eef9e0c09556",
     "locked": false,
     "schema_version": 3,
     "solution": true,
     "task": false
    }
   },
   "outputs": [
    {
     "name": "stdout",
     "output_type": "stream",
     "text": [
      "test size => 8\n",
      "(RandomForestClassifier(n_jobs=-1, random_state=42), ['ECG_original_std_2', 'IT_MF_skewness_281', 'ECG_original_mad_13', 'IT_BR_mean_220', 'ECG_original_geomean(abs)_11', 'ECG_original_prctile75_10', 'ECG_RSAindex_61', 'ECG_HR_min_div_std_44', 'ECG_amplitude_RR_prctile75_38', 'IT_BRV_baseline_234'], 0.8761575919430272)\n"
     ]
    }
   ],
   "source": [
    "def activity_model(random_state=42):\n",
    "    usableConst = top10_4th\n",
    "    model, features, score = (None,) * 3\n",
    "    X_train, X_test, y_train, y_test = custom_train_test_split(get_sensor_data(), test_size=0.2)\n",
    "\n",
    "    model = RandomForestClassifier(random_state=42, n_jobs=-1)\n",
    "    model.fit(X_train[usableConst], y_train)\n",
    "    test_score = np.float64(model.score(X_test[usableConst], y_test))\n",
    "    \n",
    "    preds = model.predict(X_test[usableConst])\n",
    "    probs = model.predict_proba(X_test[usableConst])\n",
    "\n",
    "    score = roc_auc_score(y_test, probs, multi_class=\"ovr\")\n",
    "    features = usableConst\n",
    "    \n",
    "#     print(score_auc)\n",
    "    return (model, features, score)\n",
    "print(activity_model(42))"
   ]
  },
  {
   "cell_type": "code",
   "execution_count": 90,
   "metadata": {},
   "outputs": [],
   "source": [
    "# use this cell to explore your solution\n",
    "# Remember to comment the following function call before submitting the notebook.\n",
    "\n"
   ]
  },
  {
   "cell_type": "markdown",
   "metadata": {},
   "source": [
    "<a id='t10ag'></a>\n",
    "## Task 10 Autograder Scoring\n",
    "<a href='#toc'>TOC</a>"
   ]
  },
  {
   "cell_type": "code",
   "execution_count": 91,
   "metadata": {
    "deletable": false,
    "editable": false,
    "nbgrader": {
     "cell_type": "code",
     "checksum": "9a7ea1ea96678fe141b315146d172526",
     "grade": true,
     "grade_id": "cell-b75d744376ca0a86",
     "locked": true,
     "points": 25,
     "schema_version": 3,
     "solution": false
    }
   },
   "outputs": [
    {
     "name": "stdout",
     "output_type": "stream",
     "text": [
      "Task 10 - AG tests\n",
      "test size => 8\n",
      "Task 10 - your answers:\n",
      "RandomForestClassifier(n_jobs=-1, random_state=42)\n",
      "\n",
      "['ECG_original_std_2', 'IT_MF_skewness_281', 'ECG_original_mad_13', 'IT_BR_mean_220', 'ECG_original_geomean(abs)_11', 'ECG_original_prctile75_10', 'ECG_RSAindex_61', 'ECG_HR_min_div_std_44', 'ECG_amplitude_RR_prctile75_38', 'IT_BRV_baseline_234']\n",
      "\n",
      "Score: 0.8761575919430272\n",
      "\n"
     ]
    }
   ],
   "source": [
    "# Hidden autograder model validation\n",
    "# test for AUC score >= 0.83\n",
    "\n",
    "print(f\"Task {task_id} - AG tests\")\n",
    "stu_ans = activity_model()\n",
    "\n",
    "print(\n",
    "    f\"Task {task_id} - your answers:\\n{stu_ans[0]}\\n\\n{stu_ans[1]}\\n\\nScore: {stu_ans[2]}\\n\"\n",
    ")\n",
    "\n",
    "\n",
    "\n",
    "assert (\n",
    "    stu_ans[2] >= 0.83\n",
    "), f\"Task {task_id}: Your test AUC {stu_ans[2]:.4f} is less than 0.83. You will not receive any points for this task.\""
   ]
  },
  {
   "cell_type": "code",
   "execution_count": 92,
   "metadata": {
    "deletable": false,
    "editable": false,
    "nbgrader": {
     "cell_type": "code",
     "checksum": "5417fadb52567d48270e00b36bd992d8",
     "grade": true,
     "grade_id": "cell-51c43ad464c6a07b",
     "locked": true,
     "points": 5,
     "schema_version": 3,
     "solution": false
    }
   },
   "outputs": [],
   "source": [
    "# autograder test - AUC >= 0.85\n",
    "level = 2\n",
    "\n",
    "\n",
    "assert (\n",
    "    stu_ans[2] >= 0.85\n",
    "), f\"Task {task_id}: Your test AUC {stu_ans[2]:.4f} is less than 0.85. You will receive 25 points for this task.\""
   ]
  },
  {
   "cell_type": "code",
   "execution_count": 93,
   "metadata": {
    "deletable": false,
    "editable": false,
    "nbgrader": {
     "cell_type": "code",
     "checksum": "fa5a37af7cb45d724b4315fdd9e33712",
     "grade": true,
     "grade_id": "cell-8013377ff7931f48",
     "locked": true,
     "points": 5,
     "schema_version": 3,
     "solution": false
    }
   },
   "outputs": [],
   "source": [
    "# autograder test - AUC >= 0.87\n",
    "level = 3\n",
    "\n",
    "\n",
    "assert (\n",
    "    stu_ans[2] >= 0.87\n",
    "), f\"Task {task_id}: Your test AUC {stu_ans[2]:.4f} is less than 0.87. You will receive 30 points for this task.\""
   ]
  },
  {
   "cell_type": "code",
   "execution_count": 94,
   "metadata": {
    "deletable": false,
    "editable": false,
    "nbgrader": {
     "cell_type": "code",
     "checksum": "d5b9550702668983ebc2bbfd959144c5",
     "grade": true,
     "grade_id": "cell-ebe32e8d5f5255f4",
     "locked": true,
     "points": 10,
     "schema_version": 3,
     "solution": false
    }
   },
   "outputs": [
    {
     "ename": "AssertionError",
     "evalue": "Task 10: Your test AUC 0.8762 is less than 0.89. You will receive 35 points for this task.",
     "output_type": "error",
     "traceback": [
      "\u001b[0;31m---------------------------------------------------------------------------\u001b[0m",
      "\u001b[0;31mAssertionError\u001b[0m                            Traceback (most recent call last)",
      "Cell \u001b[0;32mIn [94], line 4\u001b[0m\n\u001b[1;32m      1\u001b[0m \u001b[38;5;66;03m# autograder test - AUC >= 0.89\u001b[39;00m\n\u001b[0;32m----> 4\u001b[0m \u001b[38;5;28;01massert\u001b[39;00m (\n\u001b[1;32m      5\u001b[0m     stu_ans[\u001b[38;5;241m2\u001b[39m] \u001b[38;5;241m>\u001b[39m\u001b[38;5;241m=\u001b[39m \u001b[38;5;241m0.89\u001b[39m\n\u001b[1;32m      6\u001b[0m ), \u001b[38;5;124mf\u001b[39m\u001b[38;5;124m\"\u001b[39m\u001b[38;5;124mTask \u001b[39m\u001b[38;5;132;01m{\u001b[39;00mtask_id\u001b[38;5;132;01m}\u001b[39;00m\u001b[38;5;124m: Your test AUC \u001b[39m\u001b[38;5;132;01m{\u001b[39;00mstu_ans[\u001b[38;5;241m2\u001b[39m]\u001b[38;5;132;01m:\u001b[39;00m\u001b[38;5;124m.4f\u001b[39m\u001b[38;5;132;01m}\u001b[39;00m\u001b[38;5;124m is less than 0.89. You will receive 35 points for this task.\u001b[39m\u001b[38;5;124m\"\u001b[39m\n",
      "\u001b[0;31mAssertionError\u001b[0m: Task 10: Your test AUC 0.8762 is less than 0.89. You will receive 35 points for this task."
     ]
    }
   ],
   "source": [
    "# autograder test - AUC >= 0.89\n",
    "\n",
    "\n",
    "assert (\n",
    "    stu_ans[2] >= 0.89\n",
    "), f\"Task {task_id}: Your test AUC {stu_ans[2]:.4f} is less than 0.89. You will receive 35 points for this task.\""
   ]
  },
  {
   "cell_type": "code",
   "execution_count": null,
   "metadata": {
    "deletable": false,
    "editable": false,
    "nbgrader": {
     "cell_type": "code",
     "checksum": "f87fe07297106ab95f8aaa72fe854f4e",
     "grade": true,
     "grade_id": "cell-ee59bccdda8ea14c",
     "locked": true,
     "points": 5,
     "schema_version": 3,
     "solution": false
    }
   },
   "outputs": [],
   "source": [
    "# autograder test - AUC >= 0.91\n",
    "\n",
    "\n",
    "assert (\n",
    "    stu_ans[2] >= 0.91\n",
    "), f\"Task {task_id}: Your test AUC {stu_ans[2]:.4f} is less than 0.91. You will receive 45 points for this task.\"\n",
    "\n",
    "del stu_ans"
   ]
  },
  {
   "cell_type": "markdown",
   "metadata": {},
   "source": [
    "<a href='#toc'>TOC</a>"
   ]
  },
  {
   "cell_type": "code",
   "execution_count": null,
   "metadata": {},
   "outputs": [],
   "source": []
  }
 ],
 "metadata": {
  "anaconda-cloud": {},
  "coursera": {
   "schema_names": [
    "mads_supervised_learning_v2_assignment4"
   ]
  },
  "kernelspec": {
   "display_name": "Python 3 (ipykernel)",
   "language": "python",
   "name": "python3"
  },
  "language_info": {
   "codemirror_mode": {
    "name": "ipython",
    "version": 3
   },
   "file_extension": ".py",
   "mimetype": "text/x-python",
   "name": "python",
   "nbconvert_exporter": "python",
   "pygments_lexer": "ipython3",
   "version": "3.9.13"
  }
 },
 "nbformat": 4,
 "nbformat_minor": 2
}
